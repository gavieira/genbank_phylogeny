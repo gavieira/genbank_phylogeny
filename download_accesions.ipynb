{
 "cells": [
  {
   "cell_type": "markdown",
   "metadata": {},
   "source": [
    "# Downloading genbank accessions from .xlsx table"
   ]
  },
  {
   "cell_type": "code",
   "execution_count": 123,
   "metadata": {},
   "outputs": [],
   "source": [
    "import pandas as pd\n",
    "from Bio import Entrez, SeqIO\n",
    "import os, glob"
   ]
  },
  {
   "cell_type": "code",
   "execution_count": 124,
   "metadata": {},
   "outputs": [],
   "source": [
    "spp_accession = pd.read_excel(\"spp_accession.xlsx\", index_col=0)"
   ]
  },
  {
   "cell_type": "code",
   "execution_count": 125,
   "metadata": {},
   "outputs": [
    {
     "data": {
      "text/html": [
       "<div>\n",
       "<style scoped>\n",
       "    .dataframe tbody tr th:only-of-type {\n",
       "        vertical-align: middle;\n",
       "    }\n",
       "\n",
       "    .dataframe tbody tr th {\n",
       "        vertical-align: top;\n",
       "    }\n",
       "\n",
       "    .dataframe thead th {\n",
       "        text-align: right;\n",
       "    }\n",
       "</style>\n",
       "<table border=\"1\" class=\"dataframe\">\n",
       "  <thead>\n",
       "    <tr style=\"text-align: right;\">\n",
       "      <th></th>\n",
       "      <th>18S</th>\n",
       "      <th>28S</th>\n",
       "      <th>abdA</th>\n",
       "      <th>EF1</th>\n",
       "      <th>EF2</th>\n",
       "      <th>LWR</th>\n",
       "      <th>WNT</th>\n",
       "    </tr>\n",
       "    <tr>\n",
       "      <th>Species</th>\n",
       "      <th></th>\n",
       "      <th></th>\n",
       "      <th></th>\n",
       "      <th></th>\n",
       "      <th></th>\n",
       "      <th></th>\n",
       "      <th></th>\n",
       "    </tr>\n",
       "  </thead>\n",
       "  <tbody>\n",
       "    <tr>\n",
       "      <th>Formica_fusca</th>\n",
       "      <td>FJ824197.1</td>\n",
       "      <td>FJ824242.1</td>\n",
       "      <td>FJ824331.1</td>\n",
       "      <td>AY334415.1</td>\n",
       "      <td>EF013263.1</td>\n",
       "      <td>KJ920611.1</td>\n",
       "      <td>LT977286.1</td>\n",
       "    </tr>\n",
       "    <tr>\n",
       "      <th>Linepithema_humile</th>\n",
       "      <td>AH012894.2</td>\n",
       "      <td>AH012910.2</td>\n",
       "      <td>AY525327.1</td>\n",
       "      <td>EF013277.2</td>\n",
       "      <td>EF013277.2</td>\n",
       "      <td>FJ161830.1</td>\n",
       "      <td>AY233596.1</td>\n",
       "    </tr>\n",
       "    <tr>\n",
       "      <th>Pseudomyrmex_gracilis</th>\n",
       "      <td>AH012887.2</td>\n",
       "      <td>AH012903.2</td>\n",
       "      <td>DQ352945.1</td>\n",
       "      <td>NaN</td>\n",
       "      <td>NaN</td>\n",
       "      <td>KR829388.1</td>\n",
       "      <td>KR829015.1</td>\n",
       "    </tr>\n",
       "    <tr>\n",
       "      <th>Solenopsis_invicta</th>\n",
       "      <td>AY334566.1</td>\n",
       "      <td>AY325955.1</td>\n",
       "      <td>DQ352941.1</td>\n",
       "      <td>KP730149.1</td>\n",
       "      <td>EF013348.1</td>\n",
       "      <td>EF013642.1</td>\n",
       "      <td>KP730228.1</td>\n",
       "    </tr>\n",
       "  </tbody>\n",
       "</table>\n",
       "</div>"
      ],
      "text/plain": [
       "                              18S         28S        abdA         EF1  \\\n",
       "Species                                                                 \n",
       "Formica_fusca          FJ824197.1  FJ824242.1  FJ824331.1  AY334415.1   \n",
       "Linepithema_humile     AH012894.2  AH012910.2  AY525327.1  EF013277.2   \n",
       "Pseudomyrmex_gracilis  AH012887.2  AH012903.2  DQ352945.1         NaN   \n",
       "Solenopsis_invicta     AY334566.1  AY325955.1  DQ352941.1  KP730149.1   \n",
       "\n",
       "                              EF2         LWR          WNT  \n",
       "Species                                                     \n",
       "Formica_fusca          EF013263.1  KJ920611.1   LT977286.1  \n",
       "Linepithema_humile     EF013277.2  FJ161830.1   AY233596.1  \n",
       "Pseudomyrmex_gracilis         NaN  KR829388.1   KR829015.1  \n",
       "Solenopsis_invicta     EF013348.1  EF013642.1   KP730228.1  "
      ]
     },
     "execution_count": 125,
     "metadata": {},
     "output_type": "execute_result"
    }
   ],
   "source": [
    "spp_accession"
   ]
  },
  {
   "cell_type": "code",
   "execution_count": 126,
   "metadata": {},
   "outputs": [],
   "source": [
    "# Changing NaN to None\n",
    "spp_accession = spp_accession.where(pd.notnull(spp_accession), None)"
   ]
  },
  {
   "cell_type": "code",
   "execution_count": 127,
   "metadata": {},
   "outputs": [
    {
     "data": {
      "text/html": [
       "<div>\n",
       "<style scoped>\n",
       "    .dataframe tbody tr th:only-of-type {\n",
       "        vertical-align: middle;\n",
       "    }\n",
       "\n",
       "    .dataframe tbody tr th {\n",
       "        vertical-align: top;\n",
       "    }\n",
       "\n",
       "    .dataframe thead th {\n",
       "        text-align: right;\n",
       "    }\n",
       "</style>\n",
       "<table border=\"1\" class=\"dataframe\">\n",
       "  <thead>\n",
       "    <tr style=\"text-align: right;\">\n",
       "      <th></th>\n",
       "      <th>18S</th>\n",
       "      <th>28S</th>\n",
       "      <th>abdA</th>\n",
       "      <th>EF1</th>\n",
       "      <th>EF2</th>\n",
       "      <th>LWR</th>\n",
       "      <th>WNT</th>\n",
       "    </tr>\n",
       "    <tr>\n",
       "      <th>Species</th>\n",
       "      <th></th>\n",
       "      <th></th>\n",
       "      <th></th>\n",
       "      <th></th>\n",
       "      <th></th>\n",
       "      <th></th>\n",
       "      <th></th>\n",
       "    </tr>\n",
       "  </thead>\n",
       "  <tbody>\n",
       "    <tr>\n",
       "      <th>Formica_fusca</th>\n",
       "      <td>FJ824197.1</td>\n",
       "      <td>FJ824242.1</td>\n",
       "      <td>FJ824331.1</td>\n",
       "      <td>AY334415.1</td>\n",
       "      <td>EF013263.1</td>\n",
       "      <td>KJ920611.1</td>\n",
       "      <td>LT977286.1</td>\n",
       "    </tr>\n",
       "    <tr>\n",
       "      <th>Linepithema_humile</th>\n",
       "      <td>AH012894.2</td>\n",
       "      <td>AH012910.2</td>\n",
       "      <td>AY525327.1</td>\n",
       "      <td>EF013277.2</td>\n",
       "      <td>EF013277.2</td>\n",
       "      <td>FJ161830.1</td>\n",
       "      <td>AY233596.1</td>\n",
       "    </tr>\n",
       "    <tr>\n",
       "      <th>Pseudomyrmex_gracilis</th>\n",
       "      <td>AH012887.2</td>\n",
       "      <td>AH012903.2</td>\n",
       "      <td>DQ352945.1</td>\n",
       "      <td>None</td>\n",
       "      <td>None</td>\n",
       "      <td>KR829388.1</td>\n",
       "      <td>KR829015.1</td>\n",
       "    </tr>\n",
       "    <tr>\n",
       "      <th>Solenopsis_invicta</th>\n",
       "      <td>AY334566.1</td>\n",
       "      <td>AY325955.1</td>\n",
       "      <td>DQ352941.1</td>\n",
       "      <td>KP730149.1</td>\n",
       "      <td>EF013348.1</td>\n",
       "      <td>EF013642.1</td>\n",
       "      <td>KP730228.1</td>\n",
       "    </tr>\n",
       "  </tbody>\n",
       "</table>\n",
       "</div>"
      ],
      "text/plain": [
       "                              18S         28S        abdA         EF1  \\\n",
       "Species                                                                 \n",
       "Formica_fusca          FJ824197.1  FJ824242.1  FJ824331.1  AY334415.1   \n",
       "Linepithema_humile     AH012894.2  AH012910.2  AY525327.1  EF013277.2   \n",
       "Pseudomyrmex_gracilis  AH012887.2  AH012903.2  DQ352945.1        None   \n",
       "Solenopsis_invicta     AY334566.1  AY325955.1  DQ352941.1  KP730149.1   \n",
       "\n",
       "                              EF2         LWR          WNT  \n",
       "Species                                                     \n",
       "Formica_fusca          EF013263.1  KJ920611.1   LT977286.1  \n",
       "Linepithema_humile     EF013277.2  FJ161830.1   AY233596.1  \n",
       "Pseudomyrmex_gracilis        None  KR829388.1   KR829015.1  \n",
       "Solenopsis_invicta     EF013348.1  EF013642.1   KP730228.1  "
      ]
     },
     "execution_count": 127,
     "metadata": {},
     "output_type": "execute_result"
    }
   ],
   "source": [
    "spp_accession"
   ]
  },
  {
   "cell_type": "code",
   "execution_count": 128,
   "metadata": {},
   "outputs": [],
   "source": [
    "def create_dir(dir_name):\n",
    "    os.makedirs(os.path.dirname(dir_name), exist_ok=True)"
   ]
  },
  {
   "cell_type": "code",
   "execution_count": 129,
   "metadata": {},
   "outputs": [],
   "source": [
    "def download_acc_from_dataframe(dataframe):\n",
    "    for species in dataframe.index:\n",
    "        species = species.replace(\" \", \"_\")\n",
    "        for gene, accession in dataframe.loc[species].iteritems():\n",
    "            gene_dir = \"seed_fasta/{}/\".format(gene)\n",
    "            #create_dir(gene_dir)\n",
    "            if accession:\n",
    "                fasta_path = \"seed_fasta/{}/{}-{}.fasta\".format(gene,species, gene)\n",
    "                create_dir(fasta_path)\n",
    "                with open(fasta_path, \"w\") as fasta:\n",
    "                    handle = Entrez.efetch(db='nucleotide', id=accession, rettype='fasta', retmode='text')\n",
    "                    content = handle.read()\n",
    "                    for line in content.split(\"\\n\"):\n",
    "                        if line.startswith(\">\"):\n",
    "                            line = \">{}-{} {}\".format(species, gene, accession)\n",
    "                        fasta.write(\"{}\\n\".format(line))\n",
    "               # with open(fasta_path, \"w\") as fasta:\n",
    "               #     handle = Entrez.efetch(db='nucleotide', id=accession, rettype='fasta', retmode='text')\n",
    "               #     fasta.write(handle.read())\n",
    "               # with open(fasta_path, \"w\")\n",
    "               #     seqdata = SeqIO.read(fasta, \"fasta\")\n",
    "               #     print(\">{}-{}\\n{}\\n\".format(species, gene, seqdata.seq))"
   ]
  },
  {
   "cell_type": "code",
   "execution_count": 130,
   "metadata": {},
   "outputs": [],
   "source": [
    "def download_acc_from_dataframe(dataframe):\n",
    "    for species in dataframe.index:\n",
    "        species = species.replace(\" \", \"_\")\n",
    "        for gene, accession in dataframe.loc[species].iteritems():\n",
    "            gene_dir = \"seed_fasta/{}/\".format(gene)\n",
    "            #create_dir(gene_dir)\n",
    "            if accession:\n",
    "                fasta_path = \"seed_fasta/{}/{}-{}.fasta\".format(gene,species, gene)\n",
    "                create_dir(fasta_path)\n",
    "                with open(fasta_path, \"w\") as fasta:\n",
    "                    handle = Entrez.efetch(db='nucleotide', id=accession, rettype='fasta', retmode='text')\n",
    "                    content = handle.read()\n",
    "                    for line in content.split(\"\\n\"):\n",
    "                        if line.startswith(\">\"):\n",
    "                            line = \">{}-{} {}\".format(species, gene, accession)\n",
    "                        fasta.write(\"{}\\n\".format(line))"
   ]
  },
  {
   "cell_type": "code",
   "execution_count": 131,
   "metadata": {},
   "outputs": [
    {
     "name": "stderr",
     "output_type": "stream",
     "text": [
      "/home/gabriel/.local/lib/python3.8/site-packages/Bio/Entrez/__init__.py:619: UserWarning: \n",
      "Email address is not specified.\n",
      "\n",
      "To make use of NCBI's E-utilities, NCBI requires you to specify your\n",
      "email address with each request.  As an example, if your email address\n",
      "is A.N.Other@example.com, you can specify it as follows:\n",
      "   from Bio import Entrez\n",
      "   Entrez.email = 'A.N.Other@example.com'\n",
      "In case of excessive usage of the E-utilities, NCBI will attempt to contact\n",
      "a user at the email address provided before blocking access to the\n",
      "E-utilities.\n",
      "  warnings.warn(\n"
     ]
    }
   ],
   "source": [
    "download_acc_from_dataframe(spp_accession)"
   ]
  },
  {
   "cell_type": "code",
   "execution_count": 140,
   "metadata": {},
   "outputs": [],
   "source": [
    "def extract_COI(gb_file):\n",
    "    for record in SeqIO.parse(gb_file, \"genbank\"):\n",
    "        species_name = record.annotations.get('organism').replace(\" \", \"_\")\n",
    "        filename = \"./seed_fasta/COX1/{}_coi.fasta\".format(species_name)\n",
    "        create_dir(filename)\n",
    "        with open(filename, \"w\") as coi_file:\n",
    "            for gene in record.features:\n",
    "                if gene.type in [\"CDS\"] and gene.qualifiers.get('gene')[0] in ['COX1', 'COI']:\n",
    "                    header = \"{}-{}\".format(species_name, gene.qualifiers.get('gene')[0])\n",
    "                    sequence = gene.location.extract(record.seq) # Mas seq pode ter stop codon truncado\n",
    "                    if len(sequence) % 3 == 1:\n",
    "                        sequence += \"AA\" #Resto 1 - Precisa adicionar 'AA'\n",
    "                    elif len(sequence) % 3 == 2:\n",
    "                        sequence += \"A\" #Resto 2 - Precisa adicionar 'A'\n",
    "                    coi_file.write(\">{}\\n{}\\n\".format(header, sequence))"
   ]
  },
  {
   "cell_type": "code",
   "execution_count": 141,
   "metadata": {},
   "outputs": [],
   "source": [
    "def extract_CYTB(gb_file):\n",
    "    for record in SeqIO.parse(gb_file, \"genbank\"):\n",
    "        species_name = record.annotations.get('organism').replace(\" \", \"_\")\n",
    "        filename = \"./seed_fasta/CYTB/{}_cytb.fasta\".format(species_name)\n",
    "        create_dir(filename)\n",
    "        with open(filename, \"w\") as cytb_file:\n",
    "            for gene in record.features:\n",
    "                if gene.type in [\"CDS\"] and gene.qualifiers.get('gene')[0] in ['CYTB']:\n",
    "                    header = \"{}-{}\".format(species_name, gene.qualifiers.get('gene')[0])\n",
    "                    sequence = gene.location.extract(record.seq) # Mas seq pode ter stop codon truncado\n",
    "                    if len(sequence) % 3 == 1:\n",
    "                        sequence += \"AA\" #Resto 1 - Precisa adicionar 'AA'\n",
    "                    elif len(sequence) % 3 == 2:\n",
    "                        sequence += \"A\" #Resto 2 - Precisa adicionar 'A'\n",
    "                    cytb_file.write(\">{}\\n{}\\n\".format(header, sequence))"
   ]
  },
  {
   "cell_type": "code",
   "execution_count": 142,
   "metadata": {},
   "outputs": [],
   "source": [
    "def extract_12S(gb_file):\n",
    "    for record in SeqIO.parse(gb_file, \"genbank\"):\n",
    "        species_name = record.annotations.get('organism').replace(\" \", \"_\")\n",
    "        filename = \"./seed_fasta/12S/{}_12s.fasta\".format(species_name)\n",
    "        create_dir(filename)\n",
    "        with open(filename, \"w\") as coi_file:\n",
    "            for gene in record.features:\n",
    "                if gene.type in [\"rRNA\"] and gene.qualifiers.get('product')[0] in ['small subunit ribosomal RNA', 's-rRNA']:\n",
    "                    header = \"{}-12S\".format(species_name)\n",
    "                    sequence = gene.location.extract(record.seq)\n",
    "                    coi_file.write(\">{}\\n{}\\n\".format(header, sequence))"
   ]
  },
  {
   "cell_type": "code",
   "execution_count": 143,
   "metadata": {},
   "outputs": [],
   "source": [
    "for gb_file in glob.glob(\"./ant_mitogenomes/*.gb\"):\n",
    "    extract_COI(gb_file)\n",
    "    extract_CYTB(gb_file)\n",
    "    extract_12S(gb_file)"
   ]
  },
  {
   "cell_type": "code",
   "execution_count": 136,
   "metadata": {},
   "outputs": [],
   "source": [
    "# Testing how to extract species, gene and acession at once from dataframe\n",
    "#for species in spp_accession.index:\n",
    "#    for gene, accession in spp_accession.loc[species].iteritems():\n",
    "#        print(species, gene, accession)"
   ]
  }
 ],
 "metadata": {
  "kernelspec": {
   "display_name": "Python 3",
   "language": "python",
   "name": "python3"
  },
  "language_info": {
   "codemirror_mode": {
    "name": "ipython",
    "version": 3
   },
   "file_extension": ".py",
   "mimetype": "text/x-python",
   "name": "python",
   "nbconvert_exporter": "python",
   "pygments_lexer": "ipython3",
   "version": "3.8.3"
  }
 },
 "nbformat": 4,
 "nbformat_minor": 4
}
