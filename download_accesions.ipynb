{
 "cells": [
  {
   "cell_type": "markdown",
   "metadata": {},
   "source": [
    "# Downloading genbank accessions from .xlsx table"
   ]
  },
  {
   "cell_type": "code",
   "execution_count": 10,
   "metadata": {},
   "outputs": [],
   "source": [
    "import pandas as pd\n",
    "from Bio import Entrez\n",
    "import os"
   ]
  },
  {
   "cell_type": "code",
   "execution_count": 4,
   "metadata": {},
   "outputs": [],
   "source": [
    "spp_accession = pd.read_excel(\"spp_accession.xlsx\")"
   ]
  },
  {
   "cell_type": "code",
   "execution_count": 5,
   "metadata": {},
   "outputs": [
    {
     "data": {
      "text/html": [
       "<div>\n",
       "<style scoped>\n",
       "    .dataframe tbody tr th:only-of-type {\n",
       "        vertical-align: middle;\n",
       "    }\n",
       "\n",
       "    .dataframe tbody tr th {\n",
       "        vertical-align: top;\n",
       "    }\n",
       "\n",
       "    .dataframe thead th {\n",
       "        text-align: right;\n",
       "    }\n",
       "</style>\n",
       "<table border=\"1\" class=\"dataframe\">\n",
       "  <thead>\n",
       "    <tr style=\"text-align: right;\">\n",
       "      <th></th>\n",
       "      <th>Species</th>\n",
       "      <th>18S</th>\n",
       "      <th>28S</th>\n",
       "      <th>abdA</th>\n",
       "      <th>EF1</th>\n",
       "      <th>EF2</th>\n",
       "      <th>LWR</th>\n",
       "      <th>WNT</th>\n",
       "    </tr>\n",
       "  </thead>\n",
       "  <tbody>\n",
       "    <tr>\n",
       "      <th>0</th>\n",
       "      <td>Formica_fusca</td>\n",
       "      <td>FJ824197.1</td>\n",
       "      <td>FJ824242.1</td>\n",
       "      <td>FJ824331.1</td>\n",
       "      <td>AY334415.1</td>\n",
       "      <td>EF013263.1</td>\n",
       "      <td>KJ920611.1</td>\n",
       "      <td>LT977286.1</td>\n",
       "    </tr>\n",
       "    <tr>\n",
       "      <th>1</th>\n",
       "      <td>Linepithema_humile</td>\n",
       "      <td>AH012894.2</td>\n",
       "      <td>AH012910.2</td>\n",
       "      <td>AY525327.1</td>\n",
       "      <td>EF013277.2</td>\n",
       "      <td>EF013277.2</td>\n",
       "      <td>FJ161830.1</td>\n",
       "      <td>AY233596.1</td>\n",
       "    </tr>\n",
       "    <tr>\n",
       "      <th>2</th>\n",
       "      <td>Pseudomyrmex_gracilis</td>\n",
       "      <td>AH012887.2</td>\n",
       "      <td>AH012903.2</td>\n",
       "      <td>DQ352945.1</td>\n",
       "      <td>NaN</td>\n",
       "      <td>NaN</td>\n",
       "      <td>KR829388.1</td>\n",
       "      <td>KR829015.1</td>\n",
       "    </tr>\n",
       "    <tr>\n",
       "      <th>3</th>\n",
       "      <td>Solenopsis_invicta</td>\n",
       "      <td>AY334566.1</td>\n",
       "      <td>AY325955.1</td>\n",
       "      <td>DQ352941.1</td>\n",
       "      <td>KP730149.1</td>\n",
       "      <td>EF013348.1</td>\n",
       "      <td>EF013642.1</td>\n",
       "      <td>KP730228.1</td>\n",
       "    </tr>\n",
       "  </tbody>\n",
       "</table>\n",
       "</div>"
      ],
      "text/plain": [
       "                 Species         18S         28S        abdA         EF1  \\\n",
       "0          Formica_fusca  FJ824197.1  FJ824242.1  FJ824331.1  AY334415.1   \n",
       "1     Linepithema_humile  AH012894.2  AH012910.2  AY525327.1  EF013277.2   \n",
       "2  Pseudomyrmex_gracilis  AH012887.2  AH012903.2  DQ352945.1         NaN   \n",
       "3     Solenopsis_invicta  AY334566.1  AY325955.1  DQ352941.1  KP730149.1   \n",
       "\n",
       "          EF2         LWR          WNT  \n",
       "0  EF013263.1  KJ920611.1   LT977286.1  \n",
       "1  EF013277.2  FJ161830.1   AY233596.1  \n",
       "2         NaN  KR829388.1   KR829015.1  \n",
       "3  EF013348.1  EF013642.1   KP730228.1  "
      ]
     },
     "execution_count": 5,
     "metadata": {},
     "output_type": "execute_result"
    }
   ],
   "source": [
    "spp_accession"
   ]
  },
  {
   "cell_type": "code",
   "execution_count": 11,
   "metadata": {},
   "outputs": [],
   "source": [
    "def create_dir(dir_name):\n",
    "    os.makedirs(os.path.dirname(dir_name), exist_ok=True)"
   ]
  },
  {
   "cell_type": "code",
   "execution_count": 14,
   "metadata": {},
   "outputs": [],
   "source": [
    "create_dir(\"seed_fasta/\") # Creating dir that will contain fasta_files"
   ]
  },
  {
   "cell_type": "code",
   "execution_count": 17,
   "metadata": {},
   "outputs": [
    {
     "data": {
      "text/plain": [
       "'/home/gabriel/Dropbox/repos/genbank_phylogeny'"
      ]
     },
     "execution_count": 17,
     "metadata": {},
     "output_type": "execute_result"
    }
   ],
   "source": [
    "#os.chdir(\"..\") \n",
    "os.getcwd()"
   ]
  },
  {
   "cell_type": "code",
   "execution_count": 26,
   "metadata": {},
   "outputs": [],
   "source": [
    "def download_acc_from_dataframe(dataframe):\n",
    "    for (column_name, column) in dataframe.iteritems():\n",
    "        print(column_name, column)"
   ]
  },
  {
   "cell_type": "code",
   "execution_count": 27,
   "metadata": {},
   "outputs": [
    {
     "name": "stdout",
     "output_type": "stream",
     "text": [
      "Species 0            Formica_fusca\n",
      "1       Linepithema_humile\n",
      "2    Pseudomyrmex_gracilis\n",
      "3       Solenopsis_invicta\n",
      "Name: Species, dtype: object\n",
      "18S 0    FJ824197.1\n",
      "1    AH012894.2\n",
      "2    AH012887.2\n",
      "3    AY334566.1\n",
      "Name: 18S, dtype: object\n",
      "28S 0    FJ824242.1\n",
      "1    AH012910.2\n",
      "2    AH012903.2\n",
      "3    AY325955.1\n",
      "Name: 28S, dtype: object\n",
      "abdA 0    FJ824331.1\n",
      "1    AY525327.1\n",
      "2    DQ352945.1\n",
      "3    DQ352941.1\n",
      "Name: abdA, dtype: object\n",
      "EF1 0    AY334415.1\n",
      "1    EF013277.2\n",
      "2           NaN\n",
      "3    KP730149.1\n",
      "Name: EF1, dtype: object\n",
      "EF2 0    EF013263.1\n",
      "1    EF013277.2\n",
      "2           NaN\n",
      "3    EF013348.1\n",
      "Name: EF2, dtype: object\n",
      "LWR 0    KJ920611.1\n",
      "1    FJ161830.1\n",
      "2    KR829388.1\n",
      "3    EF013642.1\n",
      "Name: LWR, dtype: object\n",
      "WNT 0     LT977286.1\n",
      "1     AY233596.1\n",
      "2     KR829015.1\n",
      "3     KP730228.1\n",
      "Name: WNT, dtype: object\n"
     ]
    }
   ],
   "source": [
    "download_acc_from_dataframe(spp_accession)"
   ]
  },
  {
   "cell_type": "code",
   "execution_count": 25,
   "metadata": {},
   "outputs": [],
   "source": [
    "for gene in spp_accession.columns[1:]:\n",
    "    path = \"seed_fasta/{}/\".format(gene)\n",
    "    create_dir(path)"
   ]
  },
  {
   "cell_type": "code",
   "execution_count": null,
   "metadata": {},
   "outputs": [],
   "source": []
  },
  {
   "cell_type": "code",
   "execution_count": null,
   "metadata": {},
   "outputs": [],
   "source": []
  },
  {
   "cell_type": "code",
   "execution_count": null,
   "metadata": {},
   "outputs": [],
   "source": []
  },
  {
   "cell_type": "code",
   "execution_count": null,
   "metadata": {},
   "outputs": [],
   "source": []
  },
  {
   "cell_type": "code",
   "execution_count": null,
   "metadata": {},
   "outputs": [],
   "source": []
  },
  {
   "cell_type": "code",
   "execution_count": 8,
   "metadata": {},
   "outputs": [
    {
     "data": {
      "text/plain": [
       "'>YP_009705869.1 cytochrome c oxidase subunit III (mitochondrion) [Linepithema humile]\\nMSVTHNHPFHLVSVSPWPIIISFNLMNNLIMVISWFHKMNYFTLLTIPGTLLCMYQWWRDVTREATLQGC\\nHTPLVYNGMRMGMILFIVSEILFFFPFFVAYFHSSLSPAMEIGQSWPPLGIIPFNPFDIPLLNTIILVSS\\nGLTVTWSHHAMLNNNYKESTISLLMTILLGIYFSALQLIEYIEAPFTISDSVYGSSFFVATGFHGLHVII\\nGTMFLFFTFYRMNLLHFSSIHHFGFEAAAWYWHFVDVVWLFLYVSIYWWSF\\n\\n'"
      ]
     },
     "execution_count": 8,
     "metadata": {},
     "output_type": "execute_result"
    }
   ],
   "source": [
    "handle = Entrez.efetch(db='protein', id=\"YP_009705869\", rettype='fasta', retmode='text')\n",
    "handle.read()"
   ]
  },
  {
   "cell_type": "code",
   "execution_count": null,
   "metadata": {},
   "outputs": [],
   "source": []
  }
 ],
 "metadata": {
  "kernelspec": {
   "display_name": "Python 3",
   "language": "python",
   "name": "python3"
  },
  "language_info": {
   "codemirror_mode": {
    "name": "ipython",
    "version": 3
   },
   "file_extension": ".py",
   "mimetype": "text/x-python",
   "name": "python",
   "nbconvert_exporter": "python",
   "pygments_lexer": "ipython3",
   "version": "3.8.3"
  }
 },
 "nbformat": 4,
 "nbformat_minor": 4
}
