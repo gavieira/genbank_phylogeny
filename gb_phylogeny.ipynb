{
 "cells": [
  {
   "cell_type": "markdown",
   "metadata": {},
   "source": [
    "# Genbank phylogeny from COI sequences"
   ]
  },
  {
   "cell_type": "markdown",
   "metadata": {},
   "source": [
    "Complete mitogenome genbank records were downloaded for 4 ant species, each from a different subfamily:\n",
    "  - ***Pseudomyrmex gracilis*** (Pseudomyrmecinae)\n",
    "  - ***Formica fusca*** (Formicinae)\n",
    "  - ***Linepthema humile*** (Dolichoderinae)\n",
    "  - ***Solenopsis invicta*** (Myrmicinae)"
   ]
  },
  {
   "cell_type": "code",
   "execution_count": 1,
   "metadata": {},
   "outputs": [],
   "source": [
    "# importing everything we'll need\n",
    "from Bio import SeqIO\n",
    "import os, glob\n",
    "import pandas as pd\n",
    "import skbio.io"
   ]
  },
  {
   "cell_type": "markdown",
   "metadata": {},
   "source": [
    "Now, we'll be using SeqIO to obtain the COI nucleotide sequence for each species and save it into separate files:"
   ]
  },
  {
   "cell_type": "code",
   "execution_count": 41,
   "metadata": {},
   "outputs": [],
   "source": [
    "def create_dir(dir_name):\n",
    "    os.makedirs(os.path.dirname(dir_name), exist_ok=True)\n",
    "\n",
    "def extract_COI(gb_file):\n",
    "    for record in SeqIO.parse(gb_file, \"genbank\"):\n",
    "        species_name = record.annotations.get('organism').replace(\" \", \"_\")\n",
    "        filename = \"./coi_seqs/{}_coi.fa\".format(species_name)\n",
    "        create_dir(filename)\n",
    "        with open(filename, \"w\") as coi_file:\n",
    "            for gene in record.features:\n",
    "                if gene.type in [\"CDS\"] and gene.qualifiers.get('gene')[0] in ['COX1', 'COI']:\n",
    "                    header = \"{}-{}\".format(species_name, gene.qualifiers.get('gene')[0])\n",
    "                    sequence = gene.location.extract(record.seq) # Mas seq pode ter stop codon truncado\n",
    "                    if len(sequence) % 3 == 1:\n",
    "                        sequence += \"AA\" #Resto 1 - Precisa adicionar 'AA'\n",
    "                    elif len(sequence) % 3 == 2:\n",
    "                        sequence += \"A\" #Resto 2 - Precisa adicionar 'A'\n",
    "                    coi_file.write(\">{}\\n{}\\n\".format(header, sequence))\n",
    "\n",
    "for gb_file in glob.glob(\"./ant_mitogenomes/*.gb\"):\n",
    "    extract_COI(gb_file)"
   ]
  },
  {
   "cell_type": "markdown",
   "metadata": {},
   "source": [
    "Running blastn with the COI sequences against NCBI's formicidae sequences:\n",
    "\n",
    "**OBS:** Need to install [taxdb database](ftp://ftp.ncbi.nlm.nih.gov/blast/db/taxdb.tar.gz)."
   ]
  },
  {
   "cell_type": "code",
   "execution_count": 27,
   "metadata": {},
   "outputs": [
    {
     "name": "stdout",
     "output_type": "stream",
     "text": [
      "taxdb dir found\n",
      "Setting BLASTDB variable to /home/gabriel/Dropbox/repos/genbank_phylogeny/taxdb\n",
      "blast_results directory already created\n",
      "Running blast search for ./coi_seqs/Formica_fusca_coi.fa...\n",
      "Running blast search for ./coi_seqs/Linepithema_humile_coi.fa...\n",
      "Running blast search for ./coi_seqs/Pseudomyrmex_gracilis_coi.fa...\n",
      "Running blast search for ./coi_seqs/Solenopsis_invicta_coi.fa...\n"
     ]
    }
   ],
   "source": [
    "%%bash\n",
    "\n",
    "# Extracting taxdb database (if necessary)\n",
    "taxdb=$(pwd)/taxdb\n",
    "if [[ ! -d \"$taxdb\" ]]; then \n",
    "    echo \"taxdb dir not found. Extracting taxdb database...\"\n",
    "    mkdir $taxdb\n",
    "    tar -C $taxdb -xaf taxdb.tar.gz\n",
    "else\n",
    "    echo \"taxdb dir found\"\n",
    "fi\n",
    "\n",
    "# Setting BLASTDB variable\n",
    "echo \"Setting BLASTDB variable to $taxdb\"\n",
    "export BLASTDB=$taxdb\n",
    "\n",
    "# Creating directory for blast results (if necessary)\n",
    "if [[ ! -d \"blast_results\" ]]; then \n",
    "    echo \"Creating dirrectory for blast results\"\n",
    "    mkdir blast_results\n",
    "else\n",
    "    echo \"blast_results directory already created\"\n",
    "fi\n",
    "\n",
    "# Performing blast searches \n",
    "for coi in ./coi_seqs/*; do\n",
    "    echo \"Running blast search for $coi...\" && \n",
    "    #blastn -query $coi -db ./blast_teste/ant_mito -out ./blast_results/$(basename $coi .fa).blast -outfmt \"6 qseqid sseqid staxids sscinames stitle sacc saccver slen sstart send qseq\";\n",
    "    blastn -query $coi -db nr -max_target_seqs 100 -remote -entrez_query \"Formicidae [Organism]\" -outfmt \"7 qseqid sseqid staxids sscinames stitle sacc saccver slen sstart send qseq\" -out ./blast_results/$(basename $coi .fa).blast; # set max_target_seqs to higher value when running this for real\n",
    "done "
   ]
  },
  {
   "cell_type": "markdown",
   "metadata": {},
   "source": [
    "**NOTE:** Blast with the `-remote` flag can take quite some time to run and is not compatible with `-taxidlist`... If hard disk space is not a problem, maybe it would be better to just download the entire nt database and run it locally..."
   ]
  },
  {
   "cell_type": "markdown",
   "metadata": {},
   "source": [
    "Saving the blast results into dataframes:"
   ]
  },
  {
   "cell_type": "code",
   "execution_count": 35,
   "metadata": {},
   "outputs": [],
   "source": [
    "def create_dataframe(blast_result):\n",
    "    with open(blast_result) as blast7:\n",
    "        df = skbio.io.read(blast7, format='blast+7', into=pd.DataFrame)\n",
    "        return df\n",
    "\n",
    "def extract_columns_dataframe(df):\n",
    "    df = df[['qseqid', 'staxids', 'sscinames', 'sacc', 'sseq']]\n",
    "    df['sseq'] = df['sseq'].apply(lambda x: x.replace('-', ''))\n",
    "    #df['sseqlen'] = len(df['sseq'])\n",
    "    df['sseqlen'] = df.apply(lambda row: len(row.sseq), axis = 1) \n",
    "    df = df[['qseqid', 'staxids', 'sscinames', 'sacc', 'sseqlen', 'sseq']]\n",
    "    return df\n",
    "    \n",
    "#df = extract_columns_dataframe(create_dataframe('blast_results/Formica_fusca_coi_old.blast'))\n",
    "#print(df)\n",
    "#df.to_excel(\"blast.xlsx\")"
   ]
  },
  {
   "cell_type": "code",
   "execution_count": 13,
   "metadata": {},
   "outputs": [
    {
     "data": {
      "text/plain": [
       "Int64Index([8, 306, 314, 499], dtype='int64')"
      ]
     },
     "execution_count": 13,
     "metadata": {},
     "output_type": "execute_result"
    }
   ],
   "source": [
    "#Testing methods of dataframe\n",
    "#df[df[\"staxids\"].str.contains(\";\")].index\n",
    "#df.index\n",
    "#df[\";\" in df.staxids].index"
   ]
  },
  {
   "cell_type": "markdown",
   "metadata": {},
   "source": [
    "Now that we have the blast results in a dataframe, we can clean it in order to:\n",
    "\n",
    "-  Remove rows with more than one taxid;\n",
    "-  Sort dataframe (descending) for both taxid and sseqlen;\n",
    "-  Keep only one record by taxid (the one with the longest sseqlen)"
   ]
  },
  {
   "cell_type": "code",
   "execution_count": 53,
   "metadata": {},
   "outputs": [],
   "source": [
    "def clean_dataframe(df):\n",
    "    clean_df = df.drop(df[df.staxids.str.contains(\";\")].index) # Removing rows with hybrid sequences (more than one taxid value)\n",
    "    #clean_df[\"staxids\"] = pd.to_numeric(clean_df[\"staxids\"])\n",
    "    clean_df = clean_df.sort_values(by=[\"staxids\", \"sseqlen\"], ascending=False) # Sorting dataframe by taxid and sseqlen (descending) - Guarantees that highest sseqlen will always be the first row for that taxid\n",
    "    # Printing all rows to check output\n",
    "    #with pd.option_context('display.max_rows', None, 'display.max_columns', None): \n",
    "    #    print(clean_df[[\"sscinames\", \"sacc\", \"staxids\", \"sseqlen\"]])\n",
    "    clean_df = clean_df.drop_duplicates(subset=\"staxids\", keep='first') # Keeps only one record per txid. The one that has the highest sseqlen\n",
    "    return clean_df\n",
    "\n",
    "#print(clean_dataframe(df).dtypes)\n",
    "#\n",
    "#with pd.option_context('display.max_rows', None, 'display.max_columns', None): \n",
    "#    print(clean_dataframe(df)[[\"sscinames\", \"sacc\", \"staxids\", \"sseqlen\"]])"
   ]
  },
  {
   "cell_type": "markdown",
   "metadata": {},
   "source": [
    "Now that we have the functions to extract and clean the data, we have to concatenate the blast results into a single, final dataframe:"
   ]
  },
  {
   "cell_type": "code",
   "execution_count": 63,
   "metadata": {},
   "outputs": [
    {
     "name": "stderr",
     "output_type": "stream",
     "text": [
      "/home/gabriel/miniconda3/lib/python3.8/site-packages/skbio/io/registry.py:547: FormatIdentificationWarning: <_io.TextIOWrapper name='./blast_results/Formica_fusca_coi_old.blast' mode='r' encoding='UTF-8'> does not look like a blast+7 file\n",
      "  warn(\"%r does not look like a %s file\"\n",
      "<ipython-input-35-38b4e246a27e>:8: SettingWithCopyWarning: \n",
      "A value is trying to be set on a copy of a slice from a DataFrame.\n",
      "Try using .loc[row_indexer,col_indexer] = value instead\n",
      "\n",
      "See the caveats in the documentation: https://pandas.pydata.org/pandas-docs/stable/user_guide/indexing.html#returning-a-view-versus-a-copy\n",
      "  df['sseq'] = df['sseq'].apply(lambda x: x.replace('-', ''))\n",
      "<ipython-input-35-38b4e246a27e>:10: SettingWithCopyWarning: \n",
      "A value is trying to be set on a copy of a slice from a DataFrame.\n",
      "Try using .loc[row_indexer,col_indexer] = value instead\n",
      "\n",
      "See the caveats in the documentation: https://pandas.pydata.org/pandas-docs/stable/user_guide/indexing.html#returning-a-view-versus-a-copy\n",
      "  df['sseqlen'] = df.apply(lambda row: len(row.sseq), axis = 1)\n",
      "/home/gabriel/miniconda3/lib/python3.8/site-packages/skbio/io/registry.py:547: FormatIdentificationWarning: <_io.TextIOWrapper name='./blast_results/Linepithema_humile_coi_old.blast' mode='r' encoding='UTF-8'> does not look like a blast+7 file\n",
      "  warn(\"%r does not look like a %s file\"\n",
      "/home/gabriel/miniconda3/lib/python3.8/site-packages/skbio/io/registry.py:547: FormatIdentificationWarning: <_io.TextIOWrapper name='./blast_results/Pseudomyrmex_gracilis_coi_old.blast' mode='r' encoding='UTF-8'> does not look like a blast+7 file\n",
      "  warn(\"%r does not look like a %s file\"\n",
      "/home/gabriel/miniconda3/lib/python3.8/site-packages/skbio/io/registry.py:547: FormatIdentificationWarning: <_io.TextIOWrapper name='./blast_results/Solenopsis_invicta_coi_old.blast' mode='r' encoding='UTF-8'> does not look like a blast+7 file\n",
      "  warn(\"%r does not look like a %s file\"\n"
     ]
    }
   ],
   "source": [
    "blast_data = []\n",
    "for blast_result in glob.glob(\"./blast_results/*.blast\"):\n",
    "    blast_data.append(clean_dataframe(extract_columns_dataframe(create_dataframe(blast_result))))\n",
    "blast_alldata = pd.concat(blast_data)"
   ]
  },
  {
   "cell_type": "markdown",
   "metadata": {},
   "source": [
    "Despite the warnings, the resulting dataframe is correctly formatted and henceforth suitable for downstream analyses:"
   ]
  },
  {
   "cell_type": "code",
   "execution_count": 65,
   "metadata": {},
   "outputs": [
    {
     "data": {
      "text/html": [
       "<div>\n",
       "<style scoped>\n",
       "    .dataframe tbody tr th:only-of-type {\n",
       "        vertical-align: middle;\n",
       "    }\n",
       "\n",
       "    .dataframe tbody tr th {\n",
       "        vertical-align: top;\n",
       "    }\n",
       "\n",
       "    .dataframe thead th {\n",
       "        text-align: right;\n",
       "    }\n",
       "</style>\n",
       "<table border=\"1\" class=\"dataframe\">\n",
       "  <thead>\n",
       "    <tr style=\"text-align: right;\">\n",
       "      <th></th>\n",
       "      <th>qseqid</th>\n",
       "      <th>staxids</th>\n",
       "      <th>sscinames</th>\n",
       "      <th>sacc</th>\n",
       "      <th>sseqlen</th>\n",
       "      <th>sseq</th>\n",
       "    </tr>\n",
       "  </thead>\n",
       "  <tbody>\n",
       "    <tr>\n",
       "      <th>164</th>\n",
       "      <td>Formica_fusca-COX1</td>\n",
       "      <td>88063</td>\n",
       "      <td>Messor bouvieri</td>\n",
       "      <td>DQ074325</td>\n",
       "      <td>1248</td>\n",
       "      <td>GGATCATCTATAAGAATGATTATTCGACTTGAATTAGGATCATGTA...</td>\n",
       "    </tr>\n",
       "    <tr>\n",
       "      <th>109</th>\n",
       "      <td>Formica_fusca-COX1</td>\n",
       "      <td>84561</td>\n",
       "      <td>Oecophylla smaragdina</td>\n",
       "      <td>AB185475</td>\n",
       "      <td>1042</td>\n",
       "      <td>CCTTTAATATTAGGATCGCCTGATATAGCATATCCCCGTATAAATA...</td>\n",
       "    </tr>\n",
       "    <tr>\n",
       "      <th>4</th>\n",
       "      <td>Formica_fusca-COX1</td>\n",
       "      <td>84560</td>\n",
       "      <td>Formica lemani</td>\n",
       "      <td>AB019425</td>\n",
       "      <td>974</td>\n",
       "      <td>ATTCCCTTAATACTAGGATCTCCAGACATAGCTTATCCTCGTATAA...</td>\n",
       "    </tr>\n",
       "    <tr>\n",
       "      <th>40</th>\n",
       "      <td>Formica_fusca-COX1</td>\n",
       "      <td>84555</td>\n",
       "      <td>Polyrhachis dives</td>\n",
       "      <td>KT266831</td>\n",
       "      <td>1530</td>\n",
       "      <td>ATGAAAAAATGACTCTATTCAACTAACCATAAAGATATTGGAATGT...</td>\n",
       "    </tr>\n",
       "    <tr>\n",
       "      <th>168</th>\n",
       "      <td>Formica_fusca-COX1</td>\n",
       "      <td>81629</td>\n",
       "      <td>Messor structor</td>\n",
       "      <td>KT184578</td>\n",
       "      <td>1367</td>\n",
       "      <td>AGAATAATTATCCGACTTGAACTAGGGTCCTGTAACTCATTAATTA...</td>\n",
       "    </tr>\n",
       "    <tr>\n",
       "      <th>...</th>\n",
       "      <td>...</td>\n",
       "      <td>...</td>\n",
       "      <td>...</td>\n",
       "      <td>...</td>\n",
       "      <td>...</td>\n",
       "      <td>...</td>\n",
       "    </tr>\n",
       "    <tr>\n",
       "      <th>439</th>\n",
       "      <td>Solenopsis_invicta-COX1</td>\n",
       "      <td>144042</td>\n",
       "      <td>Pogonomyrmex rugosus</td>\n",
       "      <td>FJ824455</td>\n",
       "      <td>1371</td>\n",
       "      <td>ATAATTATTCGACTTGAACTTGGTTCATGTAATAGCTTAATTAATA...</td>\n",
       "    </tr>\n",
       "    <tr>\n",
       "      <th>0</th>\n",
       "      <td>Solenopsis_invicta-COX1</td>\n",
       "      <td>13686</td>\n",
       "      <td>Solenopsis invicta</td>\n",
       "      <td>HQ215538</td>\n",
       "      <td>1529</td>\n",
       "      <td>ATGAATAAATGACTTTTTTCAACAAATCACAAAGACATTGGAATTT...</td>\n",
       "    </tr>\n",
       "    <tr>\n",
       "      <th>4</th>\n",
       "      <td>Solenopsis_invicta-COX1</td>\n",
       "      <td>121131</td>\n",
       "      <td>Solenopsis geminata</td>\n",
       "      <td>HQ215537</td>\n",
       "      <td>1529</td>\n",
       "      <td>ATGAACAAATGATTTTTTTCAACTAATCACAAAGATATTGGAATTT...</td>\n",
       "    </tr>\n",
       "    <tr>\n",
       "      <th>327</th>\n",
       "      <td>Solenopsis_invicta-COX1</td>\n",
       "      <td>1031672</td>\n",
       "      <td>Messor minor x Messor cf. wasmanni BCSS-2011</td>\n",
       "      <td>EU441274</td>\n",
       "      <td>1212</td>\n",
       "      <td>TGTAATTCATTAATTAACAATGATCAAATTTATAATACTTTAGTGA...</td>\n",
       "    </tr>\n",
       "    <tr>\n",
       "      <th>390</th>\n",
       "      <td>Solenopsis_invicta-COX1</td>\n",
       "      <td>1031671</td>\n",
       "      <td>Messor cf. wasmanni BCSS-2011</td>\n",
       "      <td>EU441245</td>\n",
       "      <td>1212</td>\n",
       "      <td>TGTAATTCACTAATTAATAATGATCAAATTTATAATACTTTAGTGA...</td>\n",
       "    </tr>\n",
       "  </tbody>\n",
       "</table>\n",
       "<p>685 rows × 6 columns</p>\n",
       "</div>"
      ],
      "text/plain": [
       "                      qseqid  staxids  \\\n",
       "164       Formica_fusca-COX1    88063   \n",
       "109       Formica_fusca-COX1    84561   \n",
       "4         Formica_fusca-COX1    84560   \n",
       "40        Formica_fusca-COX1    84555   \n",
       "168       Formica_fusca-COX1    81629   \n",
       "..                       ...      ...   \n",
       "439  Solenopsis_invicta-COX1   144042   \n",
       "0    Solenopsis_invicta-COX1    13686   \n",
       "4    Solenopsis_invicta-COX1   121131   \n",
       "327  Solenopsis_invicta-COX1  1031672   \n",
       "390  Solenopsis_invicta-COX1  1031671   \n",
       "\n",
       "                                        sscinames      sacc  sseqlen  \\\n",
       "164                               Messor bouvieri  DQ074325     1248   \n",
       "109                         Oecophylla smaragdina  AB185475     1042   \n",
       "4                                  Formica lemani  AB019425      974   \n",
       "40                              Polyrhachis dives  KT266831     1530   \n",
       "168                               Messor structor  KT184578     1367   \n",
       "..                                            ...       ...      ...   \n",
       "439                          Pogonomyrmex rugosus  FJ824455     1371   \n",
       "0                              Solenopsis invicta  HQ215538     1529   \n",
       "4                             Solenopsis geminata  HQ215537     1529   \n",
       "327  Messor minor x Messor cf. wasmanni BCSS-2011  EU441274     1212   \n",
       "390                 Messor cf. wasmanni BCSS-2011  EU441245     1212   \n",
       "\n",
       "                                                  sseq  \n",
       "164  GGATCATCTATAAGAATGATTATTCGACTTGAATTAGGATCATGTA...  \n",
       "109  CCTTTAATATTAGGATCGCCTGATATAGCATATCCCCGTATAAATA...  \n",
       "4    ATTCCCTTAATACTAGGATCTCCAGACATAGCTTATCCTCGTATAA...  \n",
       "40   ATGAAAAAATGACTCTATTCAACTAACCATAAAGATATTGGAATGT...  \n",
       "168  AGAATAATTATCCGACTTGAACTAGGGTCCTGTAACTCATTAATTA...  \n",
       "..                                                 ...  \n",
       "439  ATAATTATTCGACTTGAACTTGGTTCATGTAATAGCTTAATTAATA...  \n",
       "0    ATGAATAAATGACTTTTTTCAACAAATCACAAAGACATTGGAATTT...  \n",
       "4    ATGAACAAATGATTTTTTTCAACTAATCACAAAGATATTGGAATTT...  \n",
       "327  TGTAATTCATTAATTAACAATGATCAAATTTATAATACTTTAGTGA...  \n",
       "390  TGTAATTCACTAATTAATAATGATCAAATTTATAATACTTTAGTGA...  \n",
       "\n",
       "[685 rows x 6 columns]"
      ]
     },
     "execution_count": 65,
     "metadata": {},
     "output_type": "execute_result"
    }
   ],
   "source": [
    "blast_alldata"
   ]
  },
  {
   "cell_type": "markdown",
   "metadata": {},
   "source": [
    "Lastly, let us see the percentage of hits shared between all sequences:"
   ]
  },
  {
   "cell_type": "code",
   "execution_count": null,
   "metadata": {},
   "outputs": [],
   "source": []
  }
 ],
 "metadata": {
  "kernelspec": {
   "display_name": "Python 3",
   "language": "python",
   "name": "python3"
  },
  "language_info": {
   "codemirror_mode": {
    "name": "ipython",
    "version": 3
   },
   "file_extension": ".py",
   "mimetype": "text/x-python",
   "name": "python",
   "nbconvert_exporter": "python",
   "pygments_lexer": "ipython3",
   "version": "3.8.3"
  }
 },
 "nbformat": 4,
 "nbformat_minor": 4
}
