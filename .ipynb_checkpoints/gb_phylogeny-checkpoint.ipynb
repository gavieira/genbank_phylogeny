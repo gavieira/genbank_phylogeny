{
 "cells": [
  {
   "cell_type": "markdown",
   "metadata": {},
   "source": [
    "# Genbank phylogeny from COI sequences"
   ]
  },
  {
   "cell_type": "markdown",
   "metadata": {},
   "source": [
    "Complete mitogenome genbank records were downloaded for 4 ant species, each from a different subfamily:\n",
    "  - ***Pseudomyrmex gracilis*** (Pseudomyrmecinae)\n",
    "  - ***Formica fusca*** (Formicinae)\n",
    "  - ***Linepthema humile*** (Dolichoderinae)\n",
    "  - ***Solenopsis invicta*** (Myrmicinae)"
   ]
  },
  {
   "cell_type": "code",
   "execution_count": 29,
   "metadata": {},
   "outputs": [],
   "source": [
    "# importing everything we'll need\n",
    "from Bio import SeqIO\n",
    "import os, glob\n",
    "import pandas as pd\n",
    "import skbio.io"
   ]
  },
  {
   "cell_type": "markdown",
   "metadata": {},
   "source": [
    "Now, we'll be using SeqIO to obtain the COI nucleotide sequence for each species and save it into separate files:"
   ]
  },
  {
   "cell_type": "code",
   "execution_count": 41,
   "metadata": {},
   "outputs": [],
   "source": [
    "def create_dir(dir_name):\n",
    "    os.makedirs(os.path.dirname(dir_name), exist_ok=True)\n",
    "\n",
    "def extract_COI(gb_file):\n",
    "    for record in SeqIO.parse(gb_file, \"genbank\"):\n",
    "        species_name = record.annotations.get('organism').replace(\" \", \"_\")\n",
    "        filename = \"./coi_seqs/{}_coi.fa\".format(species_name)\n",
    "        create_dir(filename)\n",
    "        with open(filename, \"w\") as coi_file:\n",
    "            for gene in record.features:\n",
    "                if gene.type in [\"CDS\"] and gene.qualifiers.get('gene')[0] in ['COX1', 'COI']:\n",
    "                    header = \"{}-{}\".format(species_name, gene.qualifiers.get('gene')[0])\n",
    "                    sequence = gene.location.extract(record.seq) # Mas seq pode ter stop codon truncado\n",
    "                    if len(sequence) % 3 == 1:\n",
    "                        sequence += \"AA\" #Resto 1 - Precisa adicionar 'AA'\n",
    "                    elif len(sequence) % 3 == 2:\n",
    "                        sequence += \"A\" #Resto 2 - Precisa adicionar 'A'\n",
    "                    coi_file.write(\">{}\\n{}\\n\".format(header, sequence))\n",
    "\n",
    "for gb_file in glob.glob(\"./ant_mitogenomes/*.gb\"):\n",
    "    extract_COI(gb_file)"
   ]
  },
  {
   "cell_type": "markdown",
   "metadata": {},
   "source": [
    "Running blastn with the COI sequences against NCBI's formicidae sequences:\n",
    "\n",
    "**OBS:** Need to install [taxdb database](ftp://ftp.ncbi.nlm.nih.gov/blast/db/taxdb.tar.gz)."
   ]
  },
  {
   "cell_type": "code",
   "execution_count": 27,
   "metadata": {},
   "outputs": [
    {
     "name": "stdout",
     "output_type": "stream",
     "text": [
      "taxdb dir found\n",
      "Setting BLASTDB variable to /home/gabriel/Dropbox/repos/genbank_phylogeny/taxdb\n",
      "blast_results directory already created\n",
      "Running blast search for ./coi_seqs/Formica_fusca_coi.fa...\n",
      "Running blast search for ./coi_seqs/Linepithema_humile_coi.fa...\n",
      "Running blast search for ./coi_seqs/Pseudomyrmex_gracilis_coi.fa...\n",
      "Running blast search for ./coi_seqs/Solenopsis_invicta_coi.fa...\n"
     ]
    }
   ],
   "source": [
    "%%bash\n",
    "\n",
    "# Extracting taxdb database (if necessary)\n",
    "taxdb=$(pwd)/taxdb\n",
    "if [[ ! -d \"$taxdb\" ]]; then \n",
    "    echo \"taxdb dir not found. Extracting taxdb database...\"\n",
    "    mkdir $taxdb\n",
    "    tar -C $taxdb -xaf taxdb.tar.gz\n",
    "else\n",
    "    echo \"taxdb dir found\"\n",
    "fi\n",
    "\n",
    "# Setting BLASTDB variable\n",
    "echo \"Setting BLASTDB variable to $taxdb\"\n",
    "export BLASTDB=$taxdb\n",
    "\n",
    "# Creating directory for blast results (if necessary)\n",
    "if [[ ! -d \"blast_results\" ]]; then \n",
    "    echo \"Creating dirrectory for blast results\"\n",
    "    mkdir blast_results\n",
    "else\n",
    "    echo \"blast_results directory already created\"\n",
    "fi\n",
    "\n",
    "# Performing blast searches \n",
    "for coi in ./coi_seqs/*; do\n",
    "    echo \"Running blast search for $coi...\" && \n",
    "    #blastn -query $coi -db ./blast_teste/ant_mito -out ./blast_results/$(basename $coi .fa).blast -outfmt \"6 qseqid sseqid staxids sscinames stitle sacc saccver slen sstart send qseq\";\n",
    "    blastn -query $coi -db nr -max_target_seqs 100 -remote -entrez_query \"Formicidae [Organism]\" -outfmt \"7 qseqid sseqid staxids sscinames stitle sacc saccver slen sstart send qseq\" -out ./blast_results/$(basename $coi .fa).blast; # set max_target_seqs to higher value when running this for real\n",
    "done "
   ]
  },
  {
   "cell_type": "markdown",
   "metadata": {},
   "source": [
    "**NOTE:** Blast with the `-remote` flag can take quite some time to run and is not compatible with `-taxidlist`... If hard disk space is not a problem, maybe it would be better to just download the entire nt database and run it locally..."
   ]
  },
  {
   "cell_type": "markdown",
   "metadata": {},
   "source": [
    "Saving the blast results into dataframes:"
   ]
  },
  {
   "cell_type": "code",
   "execution_count": 71,
   "metadata": {},
   "outputs": [
    {
     "name": "stdout",
     "output_type": "stream",
     "text": [
      "                 qseqid                staxids  \\\n",
      "0    Formica_fusca-COX1                  72779   \n",
      "1    Formica_fusca-COX1                 208979   \n",
      "2    Formica_fusca-COX1                  72779   \n",
      "3    Formica_fusca-COX1                  72779   \n",
      "4    Formica_fusca-COX1                  84560   \n",
      "..                  ...                    ...   \n",
      "495  Formica_fusca-COX1                 609739   \n",
      "496  Formica_fusca-COX1                 609832   \n",
      "497  Formica_fusca-COX1                 609832   \n",
      "498  Formica_fusca-COX1                  72779   \n",
      "499  Formica_fusca-COX1  609832;609890;2328943   \n",
      "\n",
      "                                             sscinames      sacc  sseqlen  \\\n",
      "0                                        Formica fusca  LN607805     1530   \n",
      "1                                       Formica selysi  KP670862     1530   \n",
      "2                                        Formica fusca  FJ824419     1377   \n",
      "3                                        Formica fusca  AY334398     1191   \n",
      "4                                       Formica lemani  AB019425      974   \n",
      "..                                                 ...       ...      ...   \n",
      "495                                    Formica accreta  LT977373      658   \n",
      "496                              Formica neorufibarbis  KR895865      658   \n",
      "497                              Formica neorufibarbis  KR933364      658   \n",
      "498                                      Formica fusca  JF863560      658   \n",
      "499  Formica neorufibarbis;Formica subaenescens;For...  HM374821      658   \n",
      "\n",
      "                                                  sseq  \n",
      "0    ATGAATAAATGATTATATTCTACAAATCATAAAGATATTGGTATTC...  \n",
      "1    ATGAATAAATGATTATATTCTACAAATCATAAAGATATTGGTATTC...  \n",
      "2    ATAATTATTCGCTTAGAATTAGGCTCATCAAATTCATTAATCAATA...  \n",
      "3    AATTTTATTAATGACGGAACAGGAACAGGATGAACTATTTATCCTC...  \n",
      "4    ATTCCCTTAATACTAGGATCTCCAGACATAGCTTATCCTCGTATAA...  \n",
      "..                                                 ...  \n",
      "495  TATTCTTTACTTCTTATTTGCTATTTGAGCAGGAATAATTGGATCT...  \n",
      "496  TATTCTTTACTTCTTATTTGCTATTTGAGCAGGAATAATTGGATCT...  \n",
      "497  TATTCTTTACTTCTTATTTGCTATTTGAGCAGGAATAATTGGATCT...  \n",
      "498  TATTCTTTACTTCTTATTTGCTATTTGAGCAGGAATAATTGGATCT...  \n",
      "499  TATTCTTTACTTCTTATTTGCTATTTGAGCAGGAATAATTGGATCT...  \n",
      "\n",
      "[500 rows x 6 columns]\n"
     ]
    },
    {
     "name": "stderr",
     "output_type": "stream",
     "text": [
      "/home/gabriel/miniconda3/lib/python3.8/site-packages/skbio/io/registry.py:547: FormatIdentificationWarning: <_io.TextIOWrapper name='blast_results/Formica_fusca_coi_old.blast' mode='r' encoding='UTF-8'> does not look like a blast+7 file\n",
      "  warn(\"%r does not look like a %s file\"\n",
      "<ipython-input-71-e4859dc802b8>:8: SettingWithCopyWarning: \n",
      "A value is trying to be set on a copy of a slice from a DataFrame.\n",
      "Try using .loc[row_indexer,col_indexer] = value instead\n",
      "\n",
      "See the caveats in the documentation: https://pandas.pydata.org/pandas-docs/stable/user_guide/indexing.html#returning-a-view-versus-a-copy\n",
      "  df['sseq'] = df['sseq'].apply(lambda x: x.replace('-', ''))\n",
      "<ipython-input-71-e4859dc802b8>:10: SettingWithCopyWarning: \n",
      "A value is trying to be set on a copy of a slice from a DataFrame.\n",
      "Try using .loc[row_indexer,col_indexer] = value instead\n",
      "\n",
      "See the caveats in the documentation: https://pandas.pydata.org/pandas-docs/stable/user_guide/indexing.html#returning-a-view-versus-a-copy\n",
      "  df['sseqlen'] = df.apply(lambda row: len(row.sseq), axis = 1)\n"
     ]
    }
   ],
   "source": [
    "def create_dataframe(blast_result):\n",
    "    with open(blast_result) as blast7:\n",
    "        df = skbio.io.read(blast7, format='blast+7', into=pd.DataFrame)\n",
    "        return df\n",
    "\n",
    "def filter_dataframe(df):\n",
    "    df = df[['qseqid', 'staxids', 'sscinames', 'sacc', 'sseq']]\n",
    "    df['sseq'] = df['sseq'].apply(lambda x: x.replace('-', ''))\n",
    "    #df['sseqlen'] = len(df['sseq'])\n",
    "    df['sseqlen'] = df.apply(lambda row: len(row.sseq), axis = 1) \n",
    "    df = df[['qseqid', 'staxids', 'sscinames', 'sacc', 'sseqlen', 'sseq']]\n",
    "    return df\n",
    "    \n",
    "df = filter_dataframe(create_dataframe('blast_results/Formica_fusca_coi_old.blast'))\n",
    "print(df)"
   ]
  },
  {
   "cell_type": "code",
   "execution_count": 43,
   "metadata": {},
   "outputs": [
    {
     "ename": "UnrecognizedFormatError",
     "evalue": "Could not detect the format of <_io.StringIO object at 0x7f541a51e550>",
     "output_type": "error",
     "traceback": [
      "\u001b[0;31m---------------------------------------------------------------------------\u001b[0m",
      "\u001b[0;31mUnrecognizedFormatError\u001b[0m                   Traceback (most recent call last)",
      "\u001b[0;32m<ipython-input-43-9fe4dcac88a1>\u001b[0m in \u001b[0;36m<module>\u001b[0;34m\u001b[0m\n\u001b[1;32m      1\u001b[0m \u001b[0mcontent\u001b[0m \u001b[0;34m=\u001b[0m \u001b[0mopen\u001b[0m\u001b[0;34m(\u001b[0m\u001b[0;34m\"blast_results/Formica_fusca_coi_old.blast\"\u001b[0m\u001b[0;34m)\u001b[0m\u001b[0;34m.\u001b[0m\u001b[0mread\u001b[0m\u001b[0;34m(\u001b[0m\u001b[0;34m)\u001b[0m\u001b[0;34m\u001b[0m\u001b[0;34m\u001b[0m\u001b[0m\n\u001b[1;32m      2\u001b[0m \u001b[0mfilehandle\u001b[0m \u001b[0;34m=\u001b[0m \u001b[0mStringIO\u001b[0m\u001b[0;34m(\u001b[0m\u001b[0mcontent\u001b[0m\u001b[0;34m)\u001b[0m\u001b[0;34m\u001b[0m\u001b[0;34m\u001b[0m\u001b[0m\n\u001b[0;32m----> 3\u001b[0;31m \u001b[0mdf\u001b[0m \u001b[0;34m=\u001b[0m \u001b[0mskbio\u001b[0m\u001b[0;34m.\u001b[0m\u001b[0mio\u001b[0m\u001b[0;34m.\u001b[0m\u001b[0mread\u001b[0m\u001b[0;34m(\u001b[0m\u001b[0mfilehandle\u001b[0m\u001b[0;34m,\u001b[0m \u001b[0minto\u001b[0m\u001b[0;34m=\u001b[0m\u001b[0mpd\u001b[0m\u001b[0;34m.\u001b[0m\u001b[0mDataFrame\u001b[0m\u001b[0;34m)\u001b[0m\u001b[0;34m\u001b[0m\u001b[0;34m\u001b[0m\u001b[0m\n\u001b[0m",
      "\u001b[0;32m~/miniconda3/lib/python3.8/site-packages/skbio/io/registry.py\u001b[0m in \u001b[0;36mread\u001b[0;34m(file, format, into, verify, **kwargs)\u001b[0m\n\u001b[1;32m   1158\u001b[0m \u001b[0;34m@\u001b[0m\u001b[0mwraps\u001b[0m\u001b[0;34m(\u001b[0m\u001b[0mIORegistry\u001b[0m\u001b[0;34m.\u001b[0m\u001b[0mread\u001b[0m\u001b[0;34m)\u001b[0m\u001b[0;34m\u001b[0m\u001b[0;34m\u001b[0m\u001b[0m\n\u001b[1;32m   1159\u001b[0m \u001b[0;32mdef\u001b[0m \u001b[0mread\u001b[0m\u001b[0;34m(\u001b[0m\u001b[0mfile\u001b[0m\u001b[0;34m,\u001b[0m \u001b[0mformat\u001b[0m\u001b[0;34m=\u001b[0m\u001b[0;32mNone\u001b[0m\u001b[0;34m,\u001b[0m \u001b[0minto\u001b[0m\u001b[0;34m=\u001b[0m\u001b[0;32mNone\u001b[0m\u001b[0;34m,\u001b[0m \u001b[0mverify\u001b[0m\u001b[0;34m=\u001b[0m\u001b[0;32mTrue\u001b[0m\u001b[0;34m,\u001b[0m \u001b[0;34m**\u001b[0m\u001b[0mkwargs\u001b[0m\u001b[0;34m)\u001b[0m\u001b[0;34m:\u001b[0m\u001b[0;34m\u001b[0m\u001b[0;34m\u001b[0m\u001b[0m\n\u001b[0;32m-> 1160\u001b[0;31m     return io_registry.read(file, format=format, into=into, verify=verify,\n\u001b[0m\u001b[1;32m   1161\u001b[0m                             **kwargs)\n\u001b[1;32m   1162\u001b[0m \u001b[0;34m\u001b[0m\u001b[0m\n",
      "\u001b[0;32m~/miniconda3/lib/python3.8/site-packages/skbio/io/registry.py\u001b[0m in \u001b[0;36mread\u001b[0;34m(self, file, format, into, verify, **kwargs)\u001b[0m\n\u001b[1;32m    511\u001b[0m                 \u001b[0;32mreturn\u001b[0m \u001b[0;34m(\u001b[0m\u001b[0mx\u001b[0m \u001b[0;32mfor\u001b[0m \u001b[0mx\u001b[0m \u001b[0;32min\u001b[0m \u001b[0;34m[\u001b[0m\u001b[0;34m]\u001b[0m\u001b[0;34m)\u001b[0m\u001b[0;34m\u001b[0m\u001b[0;34m\u001b[0m\u001b[0m\n\u001b[1;32m    512\u001b[0m         \u001b[0;32melse\u001b[0m\u001b[0;34m:\u001b[0m\u001b[0;34m\u001b[0m\u001b[0;34m\u001b[0m\u001b[0m\n\u001b[0;32m--> 513\u001b[0;31m             \u001b[0;32mreturn\u001b[0m \u001b[0mself\u001b[0m\u001b[0;34m.\u001b[0m\u001b[0m_read_ret\u001b[0m\u001b[0;34m(\u001b[0m\u001b[0mfile\u001b[0m\u001b[0;34m,\u001b[0m \u001b[0mformat\u001b[0m\u001b[0;34m,\u001b[0m \u001b[0minto\u001b[0m\u001b[0;34m,\u001b[0m \u001b[0mverify\u001b[0m\u001b[0;34m,\u001b[0m \u001b[0mkwargs\u001b[0m\u001b[0;34m)\u001b[0m\u001b[0;34m\u001b[0m\u001b[0;34m\u001b[0m\u001b[0m\n\u001b[0m\u001b[1;32m    514\u001b[0m \u001b[0;34m\u001b[0m\u001b[0m\n\u001b[1;32m    515\u001b[0m     \u001b[0;32mdef\u001b[0m \u001b[0m_read_ret\u001b[0m\u001b[0;34m(\u001b[0m\u001b[0mself\u001b[0m\u001b[0;34m,\u001b[0m \u001b[0mfile\u001b[0m\u001b[0;34m,\u001b[0m \u001b[0mfmt\u001b[0m\u001b[0;34m,\u001b[0m \u001b[0minto\u001b[0m\u001b[0;34m,\u001b[0m \u001b[0mverify\u001b[0m\u001b[0;34m,\u001b[0m \u001b[0mkwargs\u001b[0m\u001b[0;34m)\u001b[0m\u001b[0;34m:\u001b[0m\u001b[0;34m\u001b[0m\u001b[0;34m\u001b[0m\u001b[0m\n",
      "\u001b[0;32m~/miniconda3/lib/python3.8/site-packages/skbio/io/registry.py\u001b[0m in \u001b[0;36m_read_ret\u001b[0;34m(self, file, fmt, into, verify, kwargs)\u001b[0m\n\u001b[1;32m    516\u001b[0m         \u001b[0mio_kwargs\u001b[0m \u001b[0;34m=\u001b[0m \u001b[0mself\u001b[0m\u001b[0;34m.\u001b[0m\u001b[0m_find_io_kwargs\u001b[0m\u001b[0;34m(\u001b[0m\u001b[0mkwargs\u001b[0m\u001b[0;34m)\u001b[0m\u001b[0;34m\u001b[0m\u001b[0;34m\u001b[0m\u001b[0m\n\u001b[1;32m    517\u001b[0m         \u001b[0;32mwith\u001b[0m \u001b[0m_resolve_file\u001b[0m\u001b[0;34m(\u001b[0m\u001b[0mfile\u001b[0m\u001b[0;34m,\u001b[0m \u001b[0;34m**\u001b[0m\u001b[0mio_kwargs\u001b[0m\u001b[0;34m)\u001b[0m \u001b[0;32mas\u001b[0m \u001b[0;34m(\u001b[0m\u001b[0mfile\u001b[0m\u001b[0;34m,\u001b[0m \u001b[0m_\u001b[0m\u001b[0;34m,\u001b[0m \u001b[0m_\u001b[0m\u001b[0;34m)\u001b[0m\u001b[0;34m:\u001b[0m\u001b[0;34m\u001b[0m\u001b[0;34m\u001b[0m\u001b[0m\n\u001b[0;32m--> 518\u001b[0;31m             reader, kwargs = self._init_reader(file, fmt, into, verify, kwargs,\n\u001b[0m\u001b[1;32m    519\u001b[0m                                                io_kwargs)\n\u001b[1;32m    520\u001b[0m             \u001b[0;32mreturn\u001b[0m \u001b[0mreader\u001b[0m\u001b[0;34m(\u001b[0m\u001b[0mfile\u001b[0m\u001b[0;34m,\u001b[0m \u001b[0;34m**\u001b[0m\u001b[0mkwargs\u001b[0m\u001b[0;34m)\u001b[0m\u001b[0;34m\u001b[0m\u001b[0;34m\u001b[0m\u001b[0m\n",
      "\u001b[0;32m~/miniconda3/lib/python3.8/site-packages/skbio/io/registry.py\u001b[0m in \u001b[0;36m_init_reader\u001b[0;34m(self, file, fmt, into, verify, kwargs, io_kwargs)\u001b[0m\n\u001b[1;32m    537\u001b[0m         \u001b[0mskwargs\u001b[0m \u001b[0;34m=\u001b[0m \u001b[0;34m{\u001b[0m\u001b[0;34m}\u001b[0m\u001b[0;34m\u001b[0m\u001b[0;34m\u001b[0m\u001b[0m\n\u001b[1;32m    538\u001b[0m         \u001b[0;32mif\u001b[0m \u001b[0mfmt\u001b[0m \u001b[0;32mis\u001b[0m \u001b[0;32mNone\u001b[0m\u001b[0;34m:\u001b[0m\u001b[0;34m\u001b[0m\u001b[0;34m\u001b[0m\u001b[0m\n\u001b[0;32m--> 539\u001b[0;31m             \u001b[0mfmt\u001b[0m\u001b[0;34m,\u001b[0m \u001b[0mskwargs\u001b[0m \u001b[0;34m=\u001b[0m \u001b[0mself\u001b[0m\u001b[0;34m.\u001b[0m\u001b[0msniff\u001b[0m\u001b[0;34m(\u001b[0m\u001b[0mfile\u001b[0m\u001b[0;34m,\u001b[0m \u001b[0;34m**\u001b[0m\u001b[0mio_kwargs\u001b[0m\u001b[0;34m)\u001b[0m\u001b[0;34m\u001b[0m\u001b[0;34m\u001b[0m\u001b[0m\n\u001b[0m\u001b[1;32m    540\u001b[0m         \u001b[0;32melif\u001b[0m \u001b[0mverify\u001b[0m\u001b[0;34m:\u001b[0m\u001b[0;34m\u001b[0m\u001b[0;34m\u001b[0m\u001b[0m\n\u001b[1;32m    541\u001b[0m             \u001b[0msniffer\u001b[0m \u001b[0;34m=\u001b[0m \u001b[0mself\u001b[0m\u001b[0;34m.\u001b[0m\u001b[0mget_sniffer\u001b[0m\u001b[0;34m(\u001b[0m\u001b[0mfmt\u001b[0m\u001b[0;34m)\u001b[0m\u001b[0;34m\u001b[0m\u001b[0;34m\u001b[0m\u001b[0m\n",
      "\u001b[0;32m~/miniconda3/lib/python3.8/site-packages/skbio/io/registry.py\u001b[0m in \u001b[0;36msniff\u001b[0;34m(self, file, **kwargs)\u001b[0m\n\u001b[1;32m    428\u001b[0m                                           % (file, [m for m, s in matches]))\n\u001b[1;32m    429\u001b[0m         \u001b[0;32melif\u001b[0m \u001b[0mlen\u001b[0m\u001b[0;34m(\u001b[0m\u001b[0mmatches\u001b[0m\u001b[0;34m)\u001b[0m \u001b[0;34m==\u001b[0m \u001b[0;36m0\u001b[0m\u001b[0;34m:\u001b[0m\u001b[0;34m\u001b[0m\u001b[0;34m\u001b[0m\u001b[0m\n\u001b[0;32m--> 430\u001b[0;31m             raise UnrecognizedFormatError(\"Could not detect the format of %r\"\n\u001b[0m\u001b[1;32m    431\u001b[0m                                           % file)\n\u001b[1;32m    432\u001b[0m \u001b[0;34m\u001b[0m\u001b[0m\n",
      "\u001b[0;31mUnrecognizedFormatError\u001b[0m: Could not detect the format of <_io.StringIO object at 0x7f541a51e550>"
     ]
    }
   ],
   "source": [
    "content = open(\"blast_results/Formica_fusca_coi_old.blast\").read()\n",
    "filehandle = StringIO(content)\n",
    "df = skbio.io.read(filehandle, into=pd.DataFrame)"
   ]
  },
  {
   "cell_type": "code",
   "execution_count": null,
   "metadata": {},
   "outputs": [],
   "source": []
  },
  {
   "cell_type": "code",
   "execution_count": 57,
   "metadata": {
    "collapsed": true,
    "jupyter": {
     "outputs_hidden": true
    }
   },
   "outputs": [
    {
     "name": "stdout",
     "output_type": "stream",
     "text": [
      "Running blast search for ./coi_seqs/Formica_fusca_coi.fa...\n",
      "Running blast search for ./coi_seqs/Linepithema_humile_coi.fa...\n",
      "Running blast search for ./coi_seqs/Pseudomyrmex_gracilis_coi.fa...\n",
      "Running blast search for ./coi_seqs/Solenopsis_invicta_coi.fa...\n"
     ]
    },
    {
     "name": "stderr",
     "output_type": "stream",
     "text": [
      "mkdir: cannot create directory ‘blast_results’: File exists\n",
      "bash: line 2: [: missing `]'\n",
      "BLAST query/options error: Invalid taxidlist file \n",
      "Please refer to the BLAST+ user manual.\n",
      "BLAST query/options error: Invalid taxidlist file \n",
      "Please refer to the BLAST+ user manual.\n",
      "BLAST query/options error: Invalid taxidlist file \n",
      "Please refer to the BLAST+ user manual.\n",
      "BLAST query/options error: Invalid taxidlist file \n",
      "Please refer to the BLAST+ user manual.\n"
     ]
    },
    {
     "ename": "CalledProcessError",
     "evalue": "Command 'b'mkdir blast_results\\nif [ ! -f \"36668.txids\"]; then\\n    echo \"Getting taxidlist...\" && get_species_taxids.sh -t 36668 > 36668.txids\\nfi\\n\\nfor coi in ./coi_seqs/*; do\\n    echo \"Running blast search for $coi...\" && \\n    blastn -query $coi -db nr -taxids 36668.txids -outfmt 7 -out OUTPUT.tab > ./blast_results/$(basename $coi .fa).blast;\\ndone\\n#blastn -query $coi -db nr -remote -entrez_query \"Formicidae [Organism]\" > ./blast_results/$(basename $coi .fa).blast;\\n'' returned non-zero exit status 1.",
     "output_type": "error",
     "traceback": [
      "\u001b[0;31m---------------------------------------------------------------------------\u001b[0m",
      "\u001b[0;31mCalledProcessError\u001b[0m                        Traceback (most recent call last)",
      "\u001b[0;32m<ipython-input-57-81fb8449e36f>\u001b[0m in \u001b[0;36m<module>\u001b[0;34m\u001b[0m\n\u001b[0;32m----> 1\u001b[0;31m \u001b[0mget_ipython\u001b[0m\u001b[0;34m(\u001b[0m\u001b[0;34m)\u001b[0m\u001b[0;34m.\u001b[0m\u001b[0mrun_cell_magic\u001b[0m\u001b[0;34m(\u001b[0m\u001b[0;34m'bash'\u001b[0m\u001b[0;34m,\u001b[0m \u001b[0;34m''\u001b[0m\u001b[0;34m,\u001b[0m \u001b[0;34m'mkdir blast_results\\nif [ ! -f \"36668.txids\"]; then\\n    echo \"Getting taxidlist...\" && get_species_taxids.sh -t 36668 > 36668.txids\\nfi\\n\\nfor coi in ./coi_seqs/*; do\\n    echo \"Running blast search for $coi...\" && \\n    blastn -query $coi -db nr -taxids 36668.txids -outfmt 7 -out OUTPUT.tab > ./blast_results/$(basename $coi .fa).blast;\\ndone\\n#blastn -query $coi -db nr -remote -entrez_query \"Formicidae [Organism]\" > ./blast_results/$(basename $coi .fa).blast;\\n'\u001b[0m\u001b[0;34m)\u001b[0m\u001b[0;34m\u001b[0m\u001b[0;34m\u001b[0m\u001b[0m\n\u001b[0m",
      "\u001b[0;32m~/miniconda3/lib/python3.8/site-packages/IPython/core/interactiveshell.py\u001b[0m in \u001b[0;36mrun_cell_magic\u001b[0;34m(self, magic_name, line, cell)\u001b[0m\n\u001b[1;32m   2379\u001b[0m             \u001b[0;32mwith\u001b[0m \u001b[0mself\u001b[0m\u001b[0;34m.\u001b[0m\u001b[0mbuiltin_trap\u001b[0m\u001b[0;34m:\u001b[0m\u001b[0;34m\u001b[0m\u001b[0;34m\u001b[0m\u001b[0m\n\u001b[1;32m   2380\u001b[0m                 \u001b[0margs\u001b[0m \u001b[0;34m=\u001b[0m \u001b[0;34m(\u001b[0m\u001b[0mmagic_arg_s\u001b[0m\u001b[0;34m,\u001b[0m \u001b[0mcell\u001b[0m\u001b[0;34m)\u001b[0m\u001b[0;34m\u001b[0m\u001b[0;34m\u001b[0m\u001b[0m\n\u001b[0;32m-> 2381\u001b[0;31m                 \u001b[0mresult\u001b[0m \u001b[0;34m=\u001b[0m \u001b[0mfn\u001b[0m\u001b[0;34m(\u001b[0m\u001b[0;34m*\u001b[0m\u001b[0margs\u001b[0m\u001b[0;34m,\u001b[0m \u001b[0;34m**\u001b[0m\u001b[0mkwargs\u001b[0m\u001b[0;34m)\u001b[0m\u001b[0;34m\u001b[0m\u001b[0;34m\u001b[0m\u001b[0m\n\u001b[0m\u001b[1;32m   2382\u001b[0m             \u001b[0;32mreturn\u001b[0m \u001b[0mresult\u001b[0m\u001b[0;34m\u001b[0m\u001b[0;34m\u001b[0m\u001b[0m\n\u001b[1;32m   2383\u001b[0m \u001b[0;34m\u001b[0m\u001b[0m\n",
      "\u001b[0;32m~/miniconda3/lib/python3.8/site-packages/IPython/core/magics/script.py\u001b[0m in \u001b[0;36mnamed_script_magic\u001b[0;34m(line, cell)\u001b[0m\n\u001b[1;32m    140\u001b[0m             \u001b[0;32melse\u001b[0m\u001b[0;34m:\u001b[0m\u001b[0;34m\u001b[0m\u001b[0;34m\u001b[0m\u001b[0m\n\u001b[1;32m    141\u001b[0m                 \u001b[0mline\u001b[0m \u001b[0;34m=\u001b[0m \u001b[0mscript\u001b[0m\u001b[0;34m\u001b[0m\u001b[0;34m\u001b[0m\u001b[0m\n\u001b[0;32m--> 142\u001b[0;31m             \u001b[0;32mreturn\u001b[0m \u001b[0mself\u001b[0m\u001b[0;34m.\u001b[0m\u001b[0mshebang\u001b[0m\u001b[0;34m(\u001b[0m\u001b[0mline\u001b[0m\u001b[0;34m,\u001b[0m \u001b[0mcell\u001b[0m\u001b[0;34m)\u001b[0m\u001b[0;34m\u001b[0m\u001b[0;34m\u001b[0m\u001b[0m\n\u001b[0m\u001b[1;32m    143\u001b[0m \u001b[0;34m\u001b[0m\u001b[0m\n\u001b[1;32m    144\u001b[0m         \u001b[0;31m# write a basic docstring:\u001b[0m\u001b[0;34m\u001b[0m\u001b[0;34m\u001b[0m\u001b[0;34m\u001b[0m\u001b[0m\n",
      "\u001b[0;32m<decorator-gen-110>\u001b[0m in \u001b[0;36mshebang\u001b[0;34m(self, line, cell)\u001b[0m\n",
      "\u001b[0;32m~/miniconda3/lib/python3.8/site-packages/IPython/core/magic.py\u001b[0m in \u001b[0;36m<lambda>\u001b[0;34m(f, *a, **k)\u001b[0m\n\u001b[1;32m    185\u001b[0m     \u001b[0;31m# but it's overkill for just that one bit of state.\u001b[0m\u001b[0;34m\u001b[0m\u001b[0;34m\u001b[0m\u001b[0;34m\u001b[0m\u001b[0m\n\u001b[1;32m    186\u001b[0m     \u001b[0;32mdef\u001b[0m \u001b[0mmagic_deco\u001b[0m\u001b[0;34m(\u001b[0m\u001b[0marg\u001b[0m\u001b[0;34m)\u001b[0m\u001b[0;34m:\u001b[0m\u001b[0;34m\u001b[0m\u001b[0;34m\u001b[0m\u001b[0m\n\u001b[0;32m--> 187\u001b[0;31m         \u001b[0mcall\u001b[0m \u001b[0;34m=\u001b[0m \u001b[0;32mlambda\u001b[0m \u001b[0mf\u001b[0m\u001b[0;34m,\u001b[0m \u001b[0;34m*\u001b[0m\u001b[0ma\u001b[0m\u001b[0;34m,\u001b[0m \u001b[0;34m**\u001b[0m\u001b[0mk\u001b[0m\u001b[0;34m:\u001b[0m \u001b[0mf\u001b[0m\u001b[0;34m(\u001b[0m\u001b[0;34m*\u001b[0m\u001b[0ma\u001b[0m\u001b[0;34m,\u001b[0m \u001b[0;34m**\u001b[0m\u001b[0mk\u001b[0m\u001b[0;34m)\u001b[0m\u001b[0;34m\u001b[0m\u001b[0;34m\u001b[0m\u001b[0m\n\u001b[0m\u001b[1;32m    188\u001b[0m \u001b[0;34m\u001b[0m\u001b[0m\n\u001b[1;32m    189\u001b[0m         \u001b[0;32mif\u001b[0m \u001b[0mcallable\u001b[0m\u001b[0;34m(\u001b[0m\u001b[0marg\u001b[0m\u001b[0;34m)\u001b[0m\u001b[0;34m:\u001b[0m\u001b[0;34m\u001b[0m\u001b[0;34m\u001b[0m\u001b[0m\n",
      "\u001b[0;32m~/miniconda3/lib/python3.8/site-packages/IPython/core/magics/script.py\u001b[0m in \u001b[0;36mshebang\u001b[0;34m(self, line, cell)\u001b[0m\n\u001b[1;32m    243\u001b[0m             \u001b[0msys\u001b[0m\u001b[0;34m.\u001b[0m\u001b[0mstderr\u001b[0m\u001b[0;34m.\u001b[0m\u001b[0mflush\u001b[0m\u001b[0;34m(\u001b[0m\u001b[0;34m)\u001b[0m\u001b[0;34m\u001b[0m\u001b[0;34m\u001b[0m\u001b[0m\n\u001b[1;32m    244\u001b[0m         \u001b[0;32mif\u001b[0m \u001b[0margs\u001b[0m\u001b[0;34m.\u001b[0m\u001b[0mraise_error\u001b[0m \u001b[0;32mand\u001b[0m \u001b[0mp\u001b[0m\u001b[0;34m.\u001b[0m\u001b[0mreturncode\u001b[0m\u001b[0;34m!=\u001b[0m\u001b[0;36m0\u001b[0m\u001b[0;34m:\u001b[0m\u001b[0;34m\u001b[0m\u001b[0;34m\u001b[0m\u001b[0m\n\u001b[0;32m--> 245\u001b[0;31m             \u001b[0;32mraise\u001b[0m \u001b[0mCalledProcessError\u001b[0m\u001b[0;34m(\u001b[0m\u001b[0mp\u001b[0m\u001b[0;34m.\u001b[0m\u001b[0mreturncode\u001b[0m\u001b[0;34m,\u001b[0m \u001b[0mcell\u001b[0m\u001b[0;34m,\u001b[0m \u001b[0moutput\u001b[0m\u001b[0;34m=\u001b[0m\u001b[0mout\u001b[0m\u001b[0;34m,\u001b[0m \u001b[0mstderr\u001b[0m\u001b[0;34m=\u001b[0m\u001b[0merr\u001b[0m\u001b[0;34m)\u001b[0m\u001b[0;34m\u001b[0m\u001b[0;34m\u001b[0m\u001b[0m\n\u001b[0m\u001b[1;32m    246\u001b[0m \u001b[0;34m\u001b[0m\u001b[0m\n\u001b[1;32m    247\u001b[0m     \u001b[0;32mdef\u001b[0m \u001b[0m_run_script\u001b[0m\u001b[0;34m(\u001b[0m\u001b[0mself\u001b[0m\u001b[0;34m,\u001b[0m \u001b[0mp\u001b[0m\u001b[0;34m,\u001b[0m \u001b[0mcell\u001b[0m\u001b[0;34m,\u001b[0m \u001b[0mto_close\u001b[0m\u001b[0;34m)\u001b[0m\u001b[0;34m:\u001b[0m\u001b[0;34m\u001b[0m\u001b[0;34m\u001b[0m\u001b[0m\n",
      "\u001b[0;31mCalledProcessError\u001b[0m: Command 'b'mkdir blast_results\\nif [ ! -f \"36668.txids\"]; then\\n    echo \"Getting taxidlist...\" && get_species_taxids.sh -t 36668 > 36668.txids\\nfi\\n\\nfor coi in ./coi_seqs/*; do\\n    echo \"Running blast search for $coi...\" && \\n    blastn -query $coi -db nr -taxids 36668.txids -outfmt 7 -out OUTPUT.tab > ./blast_results/$(basename $coi .fa).blast;\\ndone\\n#blastn -query $coi -db nr -remote -entrez_query \"Formicidae [Organism]\" > ./blast_results/$(basename $coi .fa).blast;\\n'' returned non-zero exit status 1."
     ]
    }
   ],
   "source": [
    "%%bash\n",
    "mkdir blast_results\n",
    "if [ ! -f \"36668.txids\"]; then\n",
    "    echo \"Getting taxidlist...\" && get_species_taxids.sh -t 36668 > 36668.txids\n",
    "fi\n",
    "\n",
    "for coi in ./coi_seqs/*; do\n",
    "    echo \"Running blast search for $coi...\" && \n",
    "    blastn -query $coi -db nr -taxidlist 36668.txids -outfmt 7 -out OUTPUT.tab > ./blast_results/$(basename $coi .fa).blast;\n",
    "done\n",
    "#blastn -query $coi -db nr -remote -entrez_query \"Formicidae [Organism]\" > ./blast_results/$(basename $coi .fa).blast;"
   ]
  },
  {
   "cell_type": "code",
   "execution_count": null,
   "metadata": {},
   "outputs": [],
   "source": []
  }
 ],
 "metadata": {
  "kernelspec": {
   "display_name": "Python 3",
   "language": "python",
   "name": "python3"
  },
  "language_info": {
   "codemirror_mode": {
    "name": "ipython",
    "version": 3
   },
   "file_extension": ".py",
   "mimetype": "text/x-python",
   "name": "python",
   "nbconvert_exporter": "python",
   "pygments_lexer": "ipython3",
   "version": "3.8.3"
  }
 },
 "nbformat": 4,
 "nbformat_minor": 4
}
