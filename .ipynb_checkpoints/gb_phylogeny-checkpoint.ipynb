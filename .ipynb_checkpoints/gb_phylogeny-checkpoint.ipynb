{
 "cells": [
  {
   "cell_type": "markdown",
   "metadata": {},
   "source": [
    "# Genbank phylogeny from COI sequences"
   ]
  },
  {
   "cell_type": "markdown",
   "metadata": {},
   "source": [
    "Complete mitogenome genbank records were downloaded for 4 ant species, each from a different subfamily:\n",
    "  - ***Pseudomyrmex gracilis*** (Pseudomyrmecinae)\n",
    "  - ***Formica fusca*** (Formicinae)\n",
    "  - ***Linepthema humile*** (Dolichoderinae)\n",
    "  - ***Solenopsis invicta*** (Myrmicinae)"
   ]
  },
  {
   "cell_type": "code",
   "execution_count": 4,
   "metadata": {},
   "outputs": [],
   "source": [
    "# importing everything we'll need\n",
    "from Bio import SeqIO\n",
    "import os\n",
    "import glob"
   ]
  },
  {
   "cell_type": "markdown",
   "metadata": {},
   "source": [
    "Now, we'll be using SeqIO to obtain the COI nucleotide sequence for each species and save it into separate files:"
   ]
  },
  {
   "cell_type": "code",
   "execution_count": 41,
   "metadata": {},
   "outputs": [],
   "source": [
    "def create_dir(dir_name):\n",
    "    os.makedirs(os.path.dirname(dir_name), exist_ok=True)\n",
    "\n",
    "def extract_COI(gb_file):\n",
    "    for record in SeqIO.parse(gb_file, \"genbank\"):\n",
    "        species_name = record.annotations.get('organism').replace(\" \", \"_\")\n",
    "        filename = \"./coi_seqs/{}_coi.fa\".format(species_name)\n",
    "        create_dir(filename)\n",
    "        with open(filename, \"w\") as coi_file:\n",
    "            for gene in record.features:\n",
    "                if gene.type in [\"CDS\"] and gene.qualifiers.get('gene')[0] in ['COX1', 'COI']:\n",
    "                    header = \"{}-{}\".format(species_name, gene.qualifiers.get('gene')[0])\n",
    "                    sequence = gene.location.extract(record.seq) # Mas seq pode ter stop codon truncado\n",
    "                    if len(sequence) % 3 == 1:\n",
    "                        sequence += \"AA\" #Resto 1 - Precisa adicionar 'AA'\n",
    "                    elif len(sequence) % 3 == 2:\n",
    "                        sequence += \"A\" #Resto 2 - Precisa adicionar 'A'\n",
    "                    coi_file.write(\">{}\\n{}\\n\".format(header, sequence))\n",
    "\n",
    "for gb_file in glob.glob(\"./ant_mitogenomes/*.gb\"):\n",
    "    extract_COI(gb_file)"
   ]
  },
  {
   "cell_type": "markdown",
   "metadata": {},
   "source": [
    "Running blastn with the COI sequences against NCBI's formicidae sequences:"
   ]
  },
  {
   "cell_type": "code",
   "execution_count": null,
   "metadata": {},
   "outputs": [],
   "source": [
    "%%bash\n",
    "mkdir blast_results\n",
    "for coi in ./coi_seqs/*; do\n",
    "    echo \"Running blast search for $coi...\" && \n",
    "    blastn -query $coi -db nr -remote -entrez_query \"Formicidae [Organism]\" > ./blast_results/$(basename $coi .fa).blast;\n",
    "done"
   ]
  },
  {
   "cell_type": "code",
   "execution_count": 57,
   "metadata": {
    "collapsed": true,
    "jupyter": {
     "outputs_hidden": true
    }
   },
   "outputs": [
    {
     "name": "stdout",
     "output_type": "stream",
     "text": [
      "Running blast search for ./coi_seqs/Formica_fusca_coi.fa...\n",
      "Running blast search for ./coi_seqs/Linepithema_humile_coi.fa...\n",
      "Running blast search for ./coi_seqs/Pseudomyrmex_gracilis_coi.fa...\n",
      "Running blast search for ./coi_seqs/Solenopsis_invicta_coi.fa...\n"
     ]
    },
    {
     "name": "stderr",
     "output_type": "stream",
     "text": [
      "mkdir: cannot create directory ‘blast_results’: File exists\n",
      "bash: line 2: [: missing `]'\n",
      "BLAST query/options error: Invalid taxidlist file \n",
      "Please refer to the BLAST+ user manual.\n",
      "BLAST query/options error: Invalid taxidlist file \n",
      "Please refer to the BLAST+ user manual.\n",
      "BLAST query/options error: Invalid taxidlist file \n",
      "Please refer to the BLAST+ user manual.\n",
      "BLAST query/options error: Invalid taxidlist file \n",
      "Please refer to the BLAST+ user manual.\n"
     ]
    },
    {
     "ename": "CalledProcessError",
     "evalue": "Command 'b'mkdir blast_results\\nif [ ! -f \"36668.txids\"]; then\\n    echo \"Getting taxidlist...\" && get_species_taxids.sh -t 36668 > 36668.txids\\nfi\\n\\nfor coi in ./coi_seqs/*; do\\n    echo \"Running blast search for $coi...\" && \\n    blastn -query $coi -db nr -taxids 36668.txids -outfmt 7 -out OUTPUT.tab > ./blast_results/$(basename $coi .fa).blast;\\ndone\\n#blastn -query $coi -db nr -remote -entrez_query \"Formicidae [Organism]\" > ./blast_results/$(basename $coi .fa).blast;\\n'' returned non-zero exit status 1.",
     "output_type": "error",
     "traceback": [
      "\u001b[0;31m---------------------------------------------------------------------------\u001b[0m",
      "\u001b[0;31mCalledProcessError\u001b[0m                        Traceback (most recent call last)",
      "\u001b[0;32m<ipython-input-57-81fb8449e36f>\u001b[0m in \u001b[0;36m<module>\u001b[0;34m\u001b[0m\n\u001b[0;32m----> 1\u001b[0;31m \u001b[0mget_ipython\u001b[0m\u001b[0;34m(\u001b[0m\u001b[0;34m)\u001b[0m\u001b[0;34m.\u001b[0m\u001b[0mrun_cell_magic\u001b[0m\u001b[0;34m(\u001b[0m\u001b[0;34m'bash'\u001b[0m\u001b[0;34m,\u001b[0m \u001b[0;34m''\u001b[0m\u001b[0;34m,\u001b[0m \u001b[0;34m'mkdir blast_results\\nif [ ! -f \"36668.txids\"]; then\\n    echo \"Getting taxidlist...\" && get_species_taxids.sh -t 36668 > 36668.txids\\nfi\\n\\nfor coi in ./coi_seqs/*; do\\n    echo \"Running blast search for $coi...\" && \\n    blastn -query $coi -db nr -taxids 36668.txids -outfmt 7 -out OUTPUT.tab > ./blast_results/$(basename $coi .fa).blast;\\ndone\\n#blastn -query $coi -db nr -remote -entrez_query \"Formicidae [Organism]\" > ./blast_results/$(basename $coi .fa).blast;\\n'\u001b[0m\u001b[0;34m)\u001b[0m\u001b[0;34m\u001b[0m\u001b[0;34m\u001b[0m\u001b[0m\n\u001b[0m",
      "\u001b[0;32m~/miniconda3/lib/python3.8/site-packages/IPython/core/interactiveshell.py\u001b[0m in \u001b[0;36mrun_cell_magic\u001b[0;34m(self, magic_name, line, cell)\u001b[0m\n\u001b[1;32m   2379\u001b[0m             \u001b[0;32mwith\u001b[0m \u001b[0mself\u001b[0m\u001b[0;34m.\u001b[0m\u001b[0mbuiltin_trap\u001b[0m\u001b[0;34m:\u001b[0m\u001b[0;34m\u001b[0m\u001b[0;34m\u001b[0m\u001b[0m\n\u001b[1;32m   2380\u001b[0m                 \u001b[0margs\u001b[0m \u001b[0;34m=\u001b[0m \u001b[0;34m(\u001b[0m\u001b[0mmagic_arg_s\u001b[0m\u001b[0;34m,\u001b[0m \u001b[0mcell\u001b[0m\u001b[0;34m)\u001b[0m\u001b[0;34m\u001b[0m\u001b[0;34m\u001b[0m\u001b[0m\n\u001b[0;32m-> 2381\u001b[0;31m                 \u001b[0mresult\u001b[0m \u001b[0;34m=\u001b[0m \u001b[0mfn\u001b[0m\u001b[0;34m(\u001b[0m\u001b[0;34m*\u001b[0m\u001b[0margs\u001b[0m\u001b[0;34m,\u001b[0m \u001b[0;34m**\u001b[0m\u001b[0mkwargs\u001b[0m\u001b[0;34m)\u001b[0m\u001b[0;34m\u001b[0m\u001b[0;34m\u001b[0m\u001b[0m\n\u001b[0m\u001b[1;32m   2382\u001b[0m             \u001b[0;32mreturn\u001b[0m \u001b[0mresult\u001b[0m\u001b[0;34m\u001b[0m\u001b[0;34m\u001b[0m\u001b[0m\n\u001b[1;32m   2383\u001b[0m \u001b[0;34m\u001b[0m\u001b[0m\n",
      "\u001b[0;32m~/miniconda3/lib/python3.8/site-packages/IPython/core/magics/script.py\u001b[0m in \u001b[0;36mnamed_script_magic\u001b[0;34m(line, cell)\u001b[0m\n\u001b[1;32m    140\u001b[0m             \u001b[0;32melse\u001b[0m\u001b[0;34m:\u001b[0m\u001b[0;34m\u001b[0m\u001b[0;34m\u001b[0m\u001b[0m\n\u001b[1;32m    141\u001b[0m                 \u001b[0mline\u001b[0m \u001b[0;34m=\u001b[0m \u001b[0mscript\u001b[0m\u001b[0;34m\u001b[0m\u001b[0;34m\u001b[0m\u001b[0m\n\u001b[0;32m--> 142\u001b[0;31m             \u001b[0;32mreturn\u001b[0m \u001b[0mself\u001b[0m\u001b[0;34m.\u001b[0m\u001b[0mshebang\u001b[0m\u001b[0;34m(\u001b[0m\u001b[0mline\u001b[0m\u001b[0;34m,\u001b[0m \u001b[0mcell\u001b[0m\u001b[0;34m)\u001b[0m\u001b[0;34m\u001b[0m\u001b[0;34m\u001b[0m\u001b[0m\n\u001b[0m\u001b[1;32m    143\u001b[0m \u001b[0;34m\u001b[0m\u001b[0m\n\u001b[1;32m    144\u001b[0m         \u001b[0;31m# write a basic docstring:\u001b[0m\u001b[0;34m\u001b[0m\u001b[0;34m\u001b[0m\u001b[0;34m\u001b[0m\u001b[0m\n",
      "\u001b[0;32m<decorator-gen-110>\u001b[0m in \u001b[0;36mshebang\u001b[0;34m(self, line, cell)\u001b[0m\n",
      "\u001b[0;32m~/miniconda3/lib/python3.8/site-packages/IPython/core/magic.py\u001b[0m in \u001b[0;36m<lambda>\u001b[0;34m(f, *a, **k)\u001b[0m\n\u001b[1;32m    185\u001b[0m     \u001b[0;31m# but it's overkill for just that one bit of state.\u001b[0m\u001b[0;34m\u001b[0m\u001b[0;34m\u001b[0m\u001b[0;34m\u001b[0m\u001b[0m\n\u001b[1;32m    186\u001b[0m     \u001b[0;32mdef\u001b[0m \u001b[0mmagic_deco\u001b[0m\u001b[0;34m(\u001b[0m\u001b[0marg\u001b[0m\u001b[0;34m)\u001b[0m\u001b[0;34m:\u001b[0m\u001b[0;34m\u001b[0m\u001b[0;34m\u001b[0m\u001b[0m\n\u001b[0;32m--> 187\u001b[0;31m         \u001b[0mcall\u001b[0m \u001b[0;34m=\u001b[0m \u001b[0;32mlambda\u001b[0m \u001b[0mf\u001b[0m\u001b[0;34m,\u001b[0m \u001b[0;34m*\u001b[0m\u001b[0ma\u001b[0m\u001b[0;34m,\u001b[0m \u001b[0;34m**\u001b[0m\u001b[0mk\u001b[0m\u001b[0;34m:\u001b[0m \u001b[0mf\u001b[0m\u001b[0;34m(\u001b[0m\u001b[0;34m*\u001b[0m\u001b[0ma\u001b[0m\u001b[0;34m,\u001b[0m \u001b[0;34m**\u001b[0m\u001b[0mk\u001b[0m\u001b[0;34m)\u001b[0m\u001b[0;34m\u001b[0m\u001b[0;34m\u001b[0m\u001b[0m\n\u001b[0m\u001b[1;32m    188\u001b[0m \u001b[0;34m\u001b[0m\u001b[0m\n\u001b[1;32m    189\u001b[0m         \u001b[0;32mif\u001b[0m \u001b[0mcallable\u001b[0m\u001b[0;34m(\u001b[0m\u001b[0marg\u001b[0m\u001b[0;34m)\u001b[0m\u001b[0;34m:\u001b[0m\u001b[0;34m\u001b[0m\u001b[0;34m\u001b[0m\u001b[0m\n",
      "\u001b[0;32m~/miniconda3/lib/python3.8/site-packages/IPython/core/magics/script.py\u001b[0m in \u001b[0;36mshebang\u001b[0;34m(self, line, cell)\u001b[0m\n\u001b[1;32m    243\u001b[0m             \u001b[0msys\u001b[0m\u001b[0;34m.\u001b[0m\u001b[0mstderr\u001b[0m\u001b[0;34m.\u001b[0m\u001b[0mflush\u001b[0m\u001b[0;34m(\u001b[0m\u001b[0;34m)\u001b[0m\u001b[0;34m\u001b[0m\u001b[0;34m\u001b[0m\u001b[0m\n\u001b[1;32m    244\u001b[0m         \u001b[0;32mif\u001b[0m \u001b[0margs\u001b[0m\u001b[0;34m.\u001b[0m\u001b[0mraise_error\u001b[0m \u001b[0;32mand\u001b[0m \u001b[0mp\u001b[0m\u001b[0;34m.\u001b[0m\u001b[0mreturncode\u001b[0m\u001b[0;34m!=\u001b[0m\u001b[0;36m0\u001b[0m\u001b[0;34m:\u001b[0m\u001b[0;34m\u001b[0m\u001b[0;34m\u001b[0m\u001b[0m\n\u001b[0;32m--> 245\u001b[0;31m             \u001b[0;32mraise\u001b[0m \u001b[0mCalledProcessError\u001b[0m\u001b[0;34m(\u001b[0m\u001b[0mp\u001b[0m\u001b[0;34m.\u001b[0m\u001b[0mreturncode\u001b[0m\u001b[0;34m,\u001b[0m \u001b[0mcell\u001b[0m\u001b[0;34m,\u001b[0m \u001b[0moutput\u001b[0m\u001b[0;34m=\u001b[0m\u001b[0mout\u001b[0m\u001b[0;34m,\u001b[0m \u001b[0mstderr\u001b[0m\u001b[0;34m=\u001b[0m\u001b[0merr\u001b[0m\u001b[0;34m)\u001b[0m\u001b[0;34m\u001b[0m\u001b[0;34m\u001b[0m\u001b[0m\n\u001b[0m\u001b[1;32m    246\u001b[0m \u001b[0;34m\u001b[0m\u001b[0m\n\u001b[1;32m    247\u001b[0m     \u001b[0;32mdef\u001b[0m \u001b[0m_run_script\u001b[0m\u001b[0;34m(\u001b[0m\u001b[0mself\u001b[0m\u001b[0;34m,\u001b[0m \u001b[0mp\u001b[0m\u001b[0;34m,\u001b[0m \u001b[0mcell\u001b[0m\u001b[0;34m,\u001b[0m \u001b[0mto_close\u001b[0m\u001b[0;34m)\u001b[0m\u001b[0;34m:\u001b[0m\u001b[0;34m\u001b[0m\u001b[0;34m\u001b[0m\u001b[0m\n",
      "\u001b[0;31mCalledProcessError\u001b[0m: Command 'b'mkdir blast_results\\nif [ ! -f \"36668.txids\"]; then\\n    echo \"Getting taxidlist...\" && get_species_taxids.sh -t 36668 > 36668.txids\\nfi\\n\\nfor coi in ./coi_seqs/*; do\\n    echo \"Running blast search for $coi...\" && \\n    blastn -query $coi -db nr -taxids 36668.txids -outfmt 7 -out OUTPUT.tab > ./blast_results/$(basename $coi .fa).blast;\\ndone\\n#blastn -query $coi -db nr -remote -entrez_query \"Formicidae [Organism]\" > ./blast_results/$(basename $coi .fa).blast;\\n'' returned non-zero exit status 1."
     ]
    }
   ],
   "source": [
    "%%bash\n",
    "mkdir blast_results\n",
    "if [ ! -f \"36668.txids\"]; then\n",
    "    echo \"Getting taxidlist...\" && get_species_taxids.sh -t 36668 > 36668.txids\n",
    "fi\n",
    "\n",
    "for coi in ./coi_seqs/*; do\n",
    "    echo \"Running blast search for $coi...\" && \n",
    "    blastn -query $coi -db nr -taxidlist 36668.txids -outfmt 7 -out OUTPUT.tab > ./blast_results/$(basename $coi .fa).blast;\n",
    "done\n",
    "#blastn -query $coi -db nr -remote -entrez_query \"Formicidae [Organism]\" > ./blast_results/$(basename $coi .fa).blast;"
   ]
  },
  {
   "cell_type": "code",
   "execution_count": null,
   "metadata": {},
   "outputs": [],
   "source": []
  }
 ],
 "metadata": {
  "kernelspec": {
   "display_name": "Python 3",
   "language": "python",
   "name": "python3"
  },
  "language_info": {
   "codemirror_mode": {
    "name": "ipython",
    "version": 3
   },
   "file_extension": ".py",
   "mimetype": "text/x-python",
   "name": "python",
   "nbconvert_exporter": "python",
   "pygments_lexer": "ipython3",
   "version": "3.8.3"
  }
 },
 "nbformat": 4,
 "nbformat_minor": 4
}
