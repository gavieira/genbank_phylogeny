{
 "cells": [
  {
   "cell_type": "markdown",
   "metadata": {},
   "source": [
    "# Genbank phylogeny from COI sequences"
   ]
  },
  {
   "cell_type": "markdown",
   "metadata": {},
   "source": [
    "Complete mitogenome genbank records were downloaded for 4 ant species, each from a different subfamily:\n",
    "  - ***Pseudomyrmex gracilis*** (Pseudomyrmecinae)\n",
    "  - ***Formica fusca*** (Formicinae)\n",
    "  - ***Linepthema humile*** (Dolichoderinae)\n",
    "  - ***Solenopsis invicta*** (Myrmicinae)"
   ]
  },
  {
   "cell_type": "code",
   "execution_count": 29,
   "metadata": {},
   "outputs": [],
   "source": [
    "# importing everything we'll need\n",
    "from Bio import SeqIO\n",
    "import os, glob\n",
    "import pandas as pd\n",
    "import skbio.io"
   ]
  },
  {
   "cell_type": "markdown",
   "metadata": {},
   "source": [
    "Now, we'll be using SeqIO to obtain the COI nucleotide sequence for each species and save it into separate files:"
   ]
  },
  {
   "cell_type": "code",
   "execution_count": 41,
   "metadata": {},
   "outputs": [],
   "source": [
    "def create_dir(dir_name):\n",
    "    os.makedirs(os.path.dirname(dir_name), exist_ok=True)\n",
    "\n",
    "def extract_COI(gb_file):\n",
    "    for record in SeqIO.parse(gb_file, \"genbank\"):\n",
    "        species_name = record.annotations.get('organism').replace(\" \", \"_\")\n",
    "        filename = \"./coi_seqs/{}_coi.fa\".format(species_name)\n",
    "        create_dir(filename)\n",
    "        with open(filename, \"w\") as coi_file:\n",
    "            for gene in record.features:\n",
    "                if gene.type in [\"CDS\"] and gene.qualifiers.get('gene')[0] in ['COX1', 'COI']:\n",
    "                    header = \"{}-{}\".format(species_name, gene.qualifiers.get('gene')[0])\n",
    "                    sequence = gene.location.extract(record.seq) # Mas seq pode ter stop codon truncado\n",
    "                    if len(sequence) % 3 == 1:\n",
    "                        sequence += \"AA\" #Resto 1 - Precisa adicionar 'AA'\n",
    "                    elif len(sequence) % 3 == 2:\n",
    "                        sequence += \"A\" #Resto 2 - Precisa adicionar 'A'\n",
    "                    coi_file.write(\">{}\\n{}\\n\".format(header, sequence))\n",
    "\n",
    "for gb_file in glob.glob(\"./ant_mitogenomes/*.gb\"):\n",
    "    extract_COI(gb_file)"
   ]
  },
  {
   "cell_type": "markdown",
   "metadata": {},
   "source": [
    "Running blastn with the COI sequences against NCBI's formicidae sequences:\n",
    "\n",
    "**OBS:** Need to install [taxdb database](ftp://ftp.ncbi.nlm.nih.gov/blast/db/taxdb.tar.gz)."
   ]
  },
  {
   "cell_type": "code",
   "execution_count": 27,
   "metadata": {},
   "outputs": [
    {
     "name": "stdout",
     "output_type": "stream",
     "text": [
      "taxdb dir found\n",
      "Setting BLASTDB variable to /home/gabriel/Dropbox/repos/genbank_phylogeny/taxdb\n",
      "blast_results directory already created\n",
      "Running blast search for ./coi_seqs/Formica_fusca_coi.fa...\n",
      "Running blast search for ./coi_seqs/Linepithema_humile_coi.fa...\n",
      "Running blast search for ./coi_seqs/Pseudomyrmex_gracilis_coi.fa...\n",
      "Running blast search for ./coi_seqs/Solenopsis_invicta_coi.fa...\n"
     ]
    }
   ],
   "source": [
    "%%bash\n",
    "\n",
    "# Extracting taxdb database (if necessary)\n",
    "taxdb=$(pwd)/taxdb\n",
    "if [[ ! -d \"$taxdb\" ]]; then \n",
    "    echo \"taxdb dir not found. Extracting taxdb database...\"\n",
    "    mkdir $taxdb\n",
    "    tar -C $taxdb -xaf taxdb.tar.gz\n",
    "else\n",
    "    echo \"taxdb dir found\"\n",
    "fi\n",
    "\n",
    "# Setting BLASTDB variable\n",
    "echo \"Setting BLASTDB variable to $taxdb\"\n",
    "export BLASTDB=$taxdb\n",
    "\n",
    "# Creating directory for blast results (if necessary)\n",
    "if [[ ! -d \"blast_results\" ]]; then \n",
    "    echo \"Creating dirrectory for blast results\"\n",
    "    mkdir blast_results\n",
    "else\n",
    "    echo \"blast_results directory already created\"\n",
    "fi\n",
    "\n",
    "# Performing blast searches \n",
    "for coi in ./coi_seqs/*; do\n",
    "    echo \"Running blast search for $coi...\" && \n",
    "    #blastn -query $coi -db ./blast_teste/ant_mito -out ./blast_results/$(basename $coi .fa).blast -outfmt \"6 qseqid sseqid staxids sscinames stitle sacc saccver slen sstart send qseq\";\n",
    "    blastn -query $coi -db nr -max_target_seqs 100 -remote -entrez_query \"Formicidae [Organism]\" -outfmt \"7 qseqid sseqid staxids sscinames stitle sacc saccver slen sstart send qseq\" -out ./blast_results/$(basename $coi .fa).blast; # set max_target_seqs to higher value when running this for real\n",
    "done "
   ]
  },
  {
   "cell_type": "markdown",
   "metadata": {},
   "source": [
    "**NOTE:** Blast with the `-remote` flag can take quite some time to run and is not compatible with `-taxidlist`... If hard disk space is not a problem, maybe it would be better to just download the entire nt database and run it locally..."
   ]
  },
  {
   "cell_type": "markdown",
   "metadata": {},
   "source": [
    "Saving the blast results into dataframes:"
   ]
  },
  {
   "cell_type": "code",
   "execution_count": 74,
   "metadata": {},
   "outputs": [
    {
     "name": "stderr",
     "output_type": "stream",
     "text": [
      "/home/gabriel/miniconda3/lib/python3.8/site-packages/skbio/io/registry.py:547: FormatIdentificationWarning: <_io.TextIOWrapper name='blast_results/Formica_fusca_coi_old.blast' mode='r' encoding='UTF-8'> does not look like a blast+7 file\n",
      "  warn(\"%r does not look like a %s file\"\n",
      "<ipython-input-74-37e3d7676a29>:8: SettingWithCopyWarning: \n",
      "A value is trying to be set on a copy of a slice from a DataFrame.\n",
      "Try using .loc[row_indexer,col_indexer] = value instead\n",
      "\n",
      "See the caveats in the documentation: https://pandas.pydata.org/pandas-docs/stable/user_guide/indexing.html#returning-a-view-versus-a-copy\n",
      "  df['sseq'] = df['sseq'].apply(lambda x: x.replace('-', ''))\n",
      "<ipython-input-74-37e3d7676a29>:10: SettingWithCopyWarning: \n",
      "A value is trying to be set on a copy of a slice from a DataFrame.\n",
      "Try using .loc[row_indexer,col_indexer] = value instead\n",
      "\n",
      "See the caveats in the documentation: https://pandas.pydata.org/pandas-docs/stable/user_guide/indexing.html#returning-a-view-versus-a-copy\n",
      "  df['sseqlen'] = df.apply(lambda row: len(row.sseq), axis = 1)\n"
     ]
    },
    {
     "name": "stdout",
     "output_type": "stream",
     "text": [
      "                 qseqid                staxids  \\\n",
      "0    Formica_fusca-COX1                  72779   \n",
      "1    Formica_fusca-COX1                 208979   \n",
      "2    Formica_fusca-COX1                  72779   \n",
      "3    Formica_fusca-COX1                  72779   \n",
      "4    Formica_fusca-COX1                  84560   \n",
      "..                  ...                    ...   \n",
      "495  Formica_fusca-COX1                 609739   \n",
      "496  Formica_fusca-COX1                 609832   \n",
      "497  Formica_fusca-COX1                 609832   \n",
      "498  Formica_fusca-COX1                  72779   \n",
      "499  Formica_fusca-COX1  609832;609890;2328943   \n",
      "\n",
      "                                             sscinames      sacc  sseqlen  \\\n",
      "0                                        Formica fusca  LN607805     1530   \n",
      "1                                       Formica selysi  KP670862     1530   \n",
      "2                                        Formica fusca  FJ824419     1377   \n",
      "3                                        Formica fusca  AY334398     1191   \n",
      "4                                       Formica lemani  AB019425      974   \n",
      "..                                                 ...       ...      ...   \n",
      "495                                    Formica accreta  LT977373      658   \n",
      "496                              Formica neorufibarbis  KR895865      658   \n",
      "497                              Formica neorufibarbis  KR933364      658   \n",
      "498                                      Formica fusca  JF863560      658   \n",
      "499  Formica neorufibarbis;Formica subaenescens;For...  HM374821      658   \n",
      "\n",
      "                                                  sseq  \n",
      "0    ATGAATAAATGATTATATTCTACAAATCATAAAGATATTGGTATTC...  \n",
      "1    ATGAATAAATGATTATATTCTACAAATCATAAAGATATTGGTATTC...  \n",
      "2    ATAATTATTCGCTTAGAATTAGGCTCATCAAATTCATTAATCAATA...  \n",
      "3    AATTTTATTAATGACGGAACAGGAACAGGATGAACTATTTATCCTC...  \n",
      "4    ATTCCCTTAATACTAGGATCTCCAGACATAGCTTATCCTCGTATAA...  \n",
      "..                                                 ...  \n",
      "495  TATTCTTTACTTCTTATTTGCTATTTGAGCAGGAATAATTGGATCT...  \n",
      "496  TATTCTTTACTTCTTATTTGCTATTTGAGCAGGAATAATTGGATCT...  \n",
      "497  TATTCTTTACTTCTTATTTGCTATTTGAGCAGGAATAATTGGATCT...  \n",
      "498  TATTCTTTACTTCTTATTTGCTATTTGAGCAGGAATAATTGGATCT...  \n",
      "499  TATTCTTTACTTCTTATTTGCTATTTGAGCAGGAATAATTGGATCT...  \n",
      "\n",
      "[500 rows x 6 columns]\n"
     ]
    }
   ],
   "source": [
    "def create_dataframe(blast_result):\n",
    "    with open(blast_result) as blast7:\n",
    "        df = skbio.io.read(blast7, format='blast+7', into=pd.DataFrame)\n",
    "        return df\n",
    "\n",
    "def filter_dataframe(df):\n",
    "    df = df[['qseqid', 'staxids', 'sscinames', 'sacc', 'sseq']]\n",
    "    df['sseq'] = df['sseq'].apply(lambda x: x.replace('-', ''))\n",
    "    #df['sseqlen'] = len(df['sseq'])\n",
    "    df['sseqlen'] = df.apply(lambda row: len(row.sseq), axis = 1) \n",
    "    df = df[['qseqid', 'staxids', 'sscinames', 'sacc', 'sseqlen', 'sseq']]\n",
    "    return df\n",
    "    \n",
    "df = filter_dataframe(create_dataframe('blast_results/Formica_fusca_coi_old.blast'))\n",
    "print(df)\n",
    "df.to_excel(\"blast.xlsx\")"
   ]
  },
  {
   "cell_type": "code",
   "execution_count": null,
   "metadata": {},
   "outputs": [],
   "source": []
  }
 ],
 "metadata": {
  "kernelspec": {
   "display_name": "Python 3",
   "language": "python",
   "name": "python3"
  },
  "language_info": {
   "codemirror_mode": {
    "name": "ipython",
    "version": 3
   },
   "file_extension": ".py",
   "mimetype": "text/x-python",
   "name": "python",
   "nbconvert_exporter": "python",
   "pygments_lexer": "ipython3",
   "version": "3.8.3"
  }
 },
 "nbformat": 4,
 "nbformat_minor": 4
}
