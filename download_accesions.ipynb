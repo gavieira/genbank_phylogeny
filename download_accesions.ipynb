{
 "cells": [
  {
   "cell_type": "markdown",
   "metadata": {},
   "source": [
    "# Downloading genbank accessions from .xlsx table"
   ]
  },
  {
   "cell_type": "code",
   "execution_count": 106,
   "metadata": {},
   "outputs": [],
   "source": [
    "import pandas as pd\n",
    "from Bio import Entrez\n",
    "import os"
   ]
  },
  {
   "cell_type": "code",
   "execution_count": 107,
   "metadata": {},
   "outputs": [],
   "source": [
    "spp_accession = pd.read_excel(\"spp_accession.xlsx\", index_col=0)"
   ]
  },
  {
   "cell_type": "code",
   "execution_count": 108,
   "metadata": {},
   "outputs": [],
   "source": [
    "# Changing NaN to None\n",
    "spp_accession = spp_accession.where(pd.notnull(spp_accession), None)"
   ]
  },
  {
   "cell_type": "code",
   "execution_count": 109,
   "metadata": {},
   "outputs": [
    {
     "data": {
      "text/html": [
       "<div>\n",
       "<style scoped>\n",
       "    .dataframe tbody tr th:only-of-type {\n",
       "        vertical-align: middle;\n",
       "    }\n",
       "\n",
       "    .dataframe tbody tr th {\n",
       "        vertical-align: top;\n",
       "    }\n",
       "\n",
       "    .dataframe thead th {\n",
       "        text-align: right;\n",
       "    }\n",
       "</style>\n",
       "<table border=\"1\" class=\"dataframe\">\n",
       "  <thead>\n",
       "    <tr style=\"text-align: right;\">\n",
       "      <th></th>\n",
       "      <th>18S</th>\n",
       "      <th>28S</th>\n",
       "      <th>abdA</th>\n",
       "      <th>EF1</th>\n",
       "      <th>EF2</th>\n",
       "      <th>LWR</th>\n",
       "      <th>WNT</th>\n",
       "    </tr>\n",
       "    <tr>\n",
       "      <th>Species</th>\n",
       "      <th></th>\n",
       "      <th></th>\n",
       "      <th></th>\n",
       "      <th></th>\n",
       "      <th></th>\n",
       "      <th></th>\n",
       "      <th></th>\n",
       "    </tr>\n",
       "  </thead>\n",
       "  <tbody>\n",
       "    <tr>\n",
       "      <th>Formica_fusca</th>\n",
       "      <td>FJ824197.1</td>\n",
       "      <td>FJ824242.1</td>\n",
       "      <td>FJ824331.1</td>\n",
       "      <td>AY334415.1</td>\n",
       "      <td>EF013263.1</td>\n",
       "      <td>KJ920611.1</td>\n",
       "      <td>LT977286.1</td>\n",
       "    </tr>\n",
       "    <tr>\n",
       "      <th>Linepithema_humile</th>\n",
       "      <td>AH012894.2</td>\n",
       "      <td>AH012910.2</td>\n",
       "      <td>AY525327.1</td>\n",
       "      <td>EF013277.2</td>\n",
       "      <td>EF013277.2</td>\n",
       "      <td>FJ161830.1</td>\n",
       "      <td>AY233596.1</td>\n",
       "    </tr>\n",
       "    <tr>\n",
       "      <th>Pseudomyrmex_gracilis</th>\n",
       "      <td>AH012887.2</td>\n",
       "      <td>AH012903.2</td>\n",
       "      <td>DQ352945.1</td>\n",
       "      <td>None</td>\n",
       "      <td>None</td>\n",
       "      <td>KR829388.1</td>\n",
       "      <td>KR829015.1</td>\n",
       "    </tr>\n",
       "    <tr>\n",
       "      <th>Solenopsis_invicta</th>\n",
       "      <td>AY334566.1</td>\n",
       "      <td>AY325955.1</td>\n",
       "      <td>DQ352941.1</td>\n",
       "      <td>KP730149.1</td>\n",
       "      <td>EF013348.1</td>\n",
       "      <td>EF013642.1</td>\n",
       "      <td>KP730228.1</td>\n",
       "    </tr>\n",
       "  </tbody>\n",
       "</table>\n",
       "</div>"
      ],
      "text/plain": [
       "                              18S         28S        abdA         EF1  \\\n",
       "Species                                                                 \n",
       "Formica_fusca          FJ824197.1  FJ824242.1  FJ824331.1  AY334415.1   \n",
       "Linepithema_humile     AH012894.2  AH012910.2  AY525327.1  EF013277.2   \n",
       "Pseudomyrmex_gracilis  AH012887.2  AH012903.2  DQ352945.1        None   \n",
       "Solenopsis_invicta     AY334566.1  AY325955.1  DQ352941.1  KP730149.1   \n",
       "\n",
       "                              EF2         LWR          WNT  \n",
       "Species                                                     \n",
       "Formica_fusca          EF013263.1  KJ920611.1   LT977286.1  \n",
       "Linepithema_humile     EF013277.2  FJ161830.1   AY233596.1  \n",
       "Pseudomyrmex_gracilis        None  KR829388.1   KR829015.1  \n",
       "Solenopsis_invicta     EF013348.1  EF013642.1   KP730228.1  "
      ]
     },
     "execution_count": 109,
     "metadata": {},
     "output_type": "execute_result"
    }
   ],
   "source": [
    "spp_accession"
   ]
  },
  {
   "cell_type": "code",
   "execution_count": 74,
   "metadata": {},
   "outputs": [],
   "source": [
    "def create_dir(dir_name):\n",
    "    os.makedirs(os.path.dirname(dir_name), exist_ok=True)"
   ]
  },
  {
   "cell_type": "code",
   "execution_count": 113,
   "metadata": {},
   "outputs": [],
   "source": [
    "def download_acc_from_dataframe(dataframe):\n",
    "    for species in dataframe.index:\n",
    "        species = species.replace(\" \", \"_\")\n",
    "        for gene, accession in dataframe.loc[species].iteritems():\n",
    "            gene_dir = \"seed_fasta/{}/\".format(gene)\n",
    "            #create_dir(gene_dir)\n",
    "            if accession:\n",
    "                fasta_path = \"seed_fasta/{}/{}-{}.fasta\".format(gene,species, gene)\n",
    "                create_dir(fasta_path)\n",
    "                with open(fasta_path, \"w\") as fasta:\n",
    "                    handle = Entrez.efetch(db='nucleotide', id=accession, rettype='fasta', retmode='text')\n",
    "                    content = handle.read()\n",
    "                    for line in content.split(\"\\n\"):\n",
    "                        if line.startswith(\">\"):\n",
    "                            line = \">{}-{} {}\".format(species, gene, accession)\n",
    "                        fasta.write(\"{}\\n\".format(line))\n",
    "               # with open(fasta_path, \"w\") as fasta:\n",
    "               #     handle = Entrez.efetch(db='nucleotide', id=accession, rettype='fasta', retmode='text')\n",
    "               #     fasta.write(handle.read())\n",
    "               # with open(fasta_path, \"w\")\n",
    "               #     seqdata = SeqIO.read(fasta, \"fasta\")\n",
    "               #     print(\">{}-{}\\n{}\\n\".format(species, gene, seqdata.seq))"
   ]
  },
  {
   "cell_type": "code",
   "execution_count": 110,
   "metadata": {},
   "outputs": [],
   "source": [
    "def download_acc_from_dataframe(dataframe):\n",
    "    for species in dataframe.index:\n",
    "        species = species.replace(\" \", \"_\")\n",
    "        for gene, accession in dataframe.loc[species].iteritems():\n",
    "            gene_dir = \"seed_fasta/{}/\".format(gene)\n",
    "            #create_dir(gene_dir)\n",
    "            if accession:\n",
    "                fasta_path = \"seed_fasta/{}/{}-{}.fasta\".format(gene,species, gene)\n",
    "                create_dir(fasta_path)\n",
    "                with open(fasta_path, \"w\") as fasta:\n",
    "                    handle = Entrez.efetch(db='nucleotide', id=accession, rettype='fasta', retmode='text')\n",
    "                    content = handle.read()\n",
    "                    for line in content.split(\"\\n\"):\n",
    "                        if line.startswith(\">\"):\n",
    "                            line = \">{}-{} {}\".format(species, gene, accession)\n",
    "                        fasta.write(\"{}\\n\".format(line))"
   ]
  },
  {
   "cell_type": "code",
   "execution_count": 111,
   "metadata": {},
   "outputs": [
    {
     "name": "stderr",
     "output_type": "stream",
     "text": [
      "/home/gabriel/.local/lib/python3.8/site-packages/Bio/Entrez/__init__.py:619: UserWarning: \n",
      "Email address is not specified.\n",
      "\n",
      "To make use of NCBI's E-utilities, NCBI requires you to specify your\n",
      "email address with each request.  As an example, if your email address\n",
      "is A.N.Other@example.com, you can specify it as follows:\n",
      "   from Bio import Entrez\n",
      "   Entrez.email = 'A.N.Other@example.com'\n",
      "In case of excessive usage of the E-utilities, NCBI will attempt to contact\n",
      "a user at the email address provided before blocking access to the\n",
      "E-utilities.\n",
      "  warnings.warn(\n"
     ]
    }
   ],
   "source": [
    "download_acc_from_dataframe(spp_accession)"
   ]
  },
  {
   "cell_type": "code",
   "execution_count": 112,
   "metadata": {
    "collapsed": true,
    "jupyter": {
     "outputs_hidden": true
    }
   },
   "outputs": [
    {
     "name": "stdout",
     "output_type": "stream",
     "text": [
      "Formica_fusca 18S FJ824197.1\n",
      "Formica_fusca 28S FJ824242.1\n",
      "Formica_fusca abdA FJ824331.1\n",
      "Formica_fusca EF1 AY334415.1\n",
      "Formica_fusca EF2 EF013263.1\n",
      "Formica_fusca LWR KJ920611.1\n",
      "Formica_fusca WNT LT977286.1\n",
      "Linepithema_humile 18S AH012894.2\n",
      "Linepithema_humile 28S AH012910.2\n",
      "Linepithema_humile abdA AY525327.1\n",
      "Linepithema_humile EF1 EF013277.2\n",
      "Linepithema_humile EF2 EF013277.2\n",
      "Linepithema_humile LWR FJ161830.1\n",
      "Linepithema_humile WNT AY233596.1\n",
      "Pseudomyrmex_gracilis 18S AH012887.2\n",
      "Pseudomyrmex_gracilis 28S AH012903.2\n",
      "Pseudomyrmex_gracilis abdA DQ352945.1\n",
      "Pseudomyrmex_gracilis EF1 None\n",
      "Pseudomyrmex_gracilis EF2 None\n",
      "Pseudomyrmex_gracilis LWR KR829388.1\n",
      "Pseudomyrmex_gracilis WNT  KR829015.1\n",
      "Solenopsis_invicta 18S AY334566.1\n",
      "Solenopsis_invicta 28S AY325955.1\n",
      "Solenopsis_invicta abdA DQ352941.1\n",
      "Solenopsis_invicta EF1 KP730149.1\n",
      "Solenopsis_invicta EF2 EF013348.1\n",
      "Solenopsis_invicta LWR EF013642.1\n",
      "Solenopsis_invicta WNT KP730228.1\n"
     ]
    }
   ],
   "source": [
    "# Testing how to extract species, gene and acession at once from dataframe\n",
    "#for species in spp_accession.index:\n",
    "#    for gene, accession in spp_accession.loc[species].iteritems():\n",
    "#        print(species, gene, accession)"
   ]
  }
 ],
 "metadata": {
  "kernelspec": {
   "display_name": "Python 3",
   "language": "python",
   "name": "python3"
  },
  "language_info": {
   "codemirror_mode": {
    "name": "ipython",
    "version": 3
   },
   "file_extension": ".py",
   "mimetype": "text/x-python",
   "name": "python",
   "nbconvert_exporter": "python",
   "pygments_lexer": "ipython3",
   "version": "3.8.3"
  }
 },
 "nbformat": 4,
 "nbformat_minor": 4
}
